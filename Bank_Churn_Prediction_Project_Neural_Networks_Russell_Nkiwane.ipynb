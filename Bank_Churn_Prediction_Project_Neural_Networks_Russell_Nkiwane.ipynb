{
 "cells": [
  {
   "cell_type": "markdown",
   "metadata": {},
   "source": [
    "# Objective: \n",
    "Given a Bank customer, build a neural network-based classifier that can determine whether they will leave or not in the next 6 months.\n",
    "## Context: \n",
    "Businesses like banks that provide service have to worry about the problem of 'Churn' i.e. customers leaving and joining another service provider. It is important to understand which aspects of the service influence a customer's decision in this regard. Management can concentrate efforts on the improvement of service, keeping in mind these priorities. \n"
   ]
  },
  {
   "cell_type": "markdown",
   "metadata": {},
   "source": [
    "## Exploratory Data Analysis"
   ]
  },
  {
   "cell_type": "code",
   "execution_count": 1,
   "metadata": {},
   "outputs": [],
   "source": [
    "# Import packages to use in EDA\n",
    "import numpy as np\n",
    "import pandas as pd\n",
    "import matplotlib.pyplot as plt\n",
    "%matplotlib inline \n",
    "import seaborn as sns\n",
    "from sklearn.model_selection import train_test_split\n",
    "from scipy.stats import zscore"
   ]
  },
  {
   "cell_type": "code",
   "execution_count": 2,
   "metadata": {},
   "outputs": [],
   "source": [
    "# Import data into pandas dataframe\n",
    "data_og = pd.read_csv('bank.csv')"
   ]
  },
  {
   "cell_type": "code",
   "execution_count": 3,
   "metadata": {},
   "outputs": [
    {
     "name": "stdout",
     "output_type": "stream",
     "text": [
      "<class 'pandas.core.frame.DataFrame'>\n",
      "RangeIndex: 10000 entries, 0 to 9999\n",
      "Data columns (total 14 columns):\n",
      " #   Column           Non-Null Count  Dtype  \n",
      "---  ------           --------------  -----  \n",
      " 0   RowNumber        10000 non-null  int64  \n",
      " 1   CustomerId       10000 non-null  int64  \n",
      " 2   Surname          10000 non-null  object \n",
      " 3   CreditScore      10000 non-null  int64  \n",
      " 4   Geography        10000 non-null  object \n",
      " 5   Gender           10000 non-null  object \n",
      " 6   Age              10000 non-null  int64  \n",
      " 7   Tenure           10000 non-null  int64  \n",
      " 8   Balance          10000 non-null  float64\n",
      " 9   NumOfProducts    10000 non-null  int64  \n",
      " 10  HasCrCard        10000 non-null  int64  \n",
      " 11  IsActiveMember   10000 non-null  int64  \n",
      " 12  EstimatedSalary  10000 non-null  float64\n",
      " 13  Exited           10000 non-null  int64  \n",
      "dtypes: float64(2), int64(9), object(3)\n",
      "memory usage: 1.1+ MB\n"
     ]
    }
   ],
   "source": [
    "# Check number of columns in dataframe, 13 are dependent variables with 1 dependent variable \"Exited\"\n",
    "# Check number of records in the data, which is 10000\n",
    "data_og.info()"
   ]
  },
  {
   "cell_type": "code",
   "execution_count": 4,
   "metadata": {},
   "outputs": [
    {
     "data": {
      "text/html": [
       "<div>\n",
       "<style scoped>\n",
       "    .dataframe tbody tr th:only-of-type {\n",
       "        vertical-align: middle;\n",
       "    }\n",
       "\n",
       "    .dataframe tbody tr th {\n",
       "        vertical-align: top;\n",
       "    }\n",
       "\n",
       "    .dataframe thead th {\n",
       "        text-align: right;\n",
       "    }\n",
       "</style>\n",
       "<table border=\"1\" class=\"dataframe\">\n",
       "  <thead>\n",
       "    <tr style=\"text-align: right;\">\n",
       "      <th></th>\n",
       "      <th>RowNumber</th>\n",
       "      <th>CustomerId</th>\n",
       "      <th>Surname</th>\n",
       "      <th>CreditScore</th>\n",
       "      <th>Geography</th>\n",
       "      <th>Gender</th>\n",
       "      <th>Age</th>\n",
       "      <th>Tenure</th>\n",
       "      <th>Balance</th>\n",
       "      <th>NumOfProducts</th>\n",
       "      <th>HasCrCard</th>\n",
       "      <th>IsActiveMember</th>\n",
       "      <th>EstimatedSalary</th>\n",
       "      <th>Exited</th>\n",
       "    </tr>\n",
       "  </thead>\n",
       "  <tbody>\n",
       "    <tr>\n",
       "      <th>0</th>\n",
       "      <td>1</td>\n",
       "      <td>15634602</td>\n",
       "      <td>Hargrave</td>\n",
       "      <td>619</td>\n",
       "      <td>France</td>\n",
       "      <td>Female</td>\n",
       "      <td>42</td>\n",
       "      <td>2</td>\n",
       "      <td>0.00</td>\n",
       "      <td>1</td>\n",
       "      <td>1</td>\n",
       "      <td>1</td>\n",
       "      <td>101348.88</td>\n",
       "      <td>1</td>\n",
       "    </tr>\n",
       "    <tr>\n",
       "      <th>1</th>\n",
       "      <td>2</td>\n",
       "      <td>15647311</td>\n",
       "      <td>Hill</td>\n",
       "      <td>608</td>\n",
       "      <td>Spain</td>\n",
       "      <td>Female</td>\n",
       "      <td>41</td>\n",
       "      <td>1</td>\n",
       "      <td>83807.86</td>\n",
       "      <td>1</td>\n",
       "      <td>0</td>\n",
       "      <td>1</td>\n",
       "      <td>112542.58</td>\n",
       "      <td>0</td>\n",
       "    </tr>\n",
       "    <tr>\n",
       "      <th>2</th>\n",
       "      <td>3</td>\n",
       "      <td>15619304</td>\n",
       "      <td>Onio</td>\n",
       "      <td>502</td>\n",
       "      <td>France</td>\n",
       "      <td>Female</td>\n",
       "      <td>42</td>\n",
       "      <td>8</td>\n",
       "      <td>159660.80</td>\n",
       "      <td>3</td>\n",
       "      <td>1</td>\n",
       "      <td>0</td>\n",
       "      <td>113931.57</td>\n",
       "      <td>1</td>\n",
       "    </tr>\n",
       "    <tr>\n",
       "      <th>3</th>\n",
       "      <td>4</td>\n",
       "      <td>15701354</td>\n",
       "      <td>Boni</td>\n",
       "      <td>699</td>\n",
       "      <td>France</td>\n",
       "      <td>Female</td>\n",
       "      <td>39</td>\n",
       "      <td>1</td>\n",
       "      <td>0.00</td>\n",
       "      <td>2</td>\n",
       "      <td>0</td>\n",
       "      <td>0</td>\n",
       "      <td>93826.63</td>\n",
       "      <td>0</td>\n",
       "    </tr>\n",
       "    <tr>\n",
       "      <th>4</th>\n",
       "      <td>5</td>\n",
       "      <td>15737888</td>\n",
       "      <td>Mitchell</td>\n",
       "      <td>850</td>\n",
       "      <td>Spain</td>\n",
       "      <td>Female</td>\n",
       "      <td>43</td>\n",
       "      <td>2</td>\n",
       "      <td>125510.82</td>\n",
       "      <td>1</td>\n",
       "      <td>1</td>\n",
       "      <td>1</td>\n",
       "      <td>79084.10</td>\n",
       "      <td>0</td>\n",
       "    </tr>\n",
       "  </tbody>\n",
       "</table>\n",
       "</div>"
      ],
      "text/plain": [
       "   RowNumber  CustomerId   Surname  CreditScore Geography  Gender  Age  \\\n",
       "0          1    15634602  Hargrave          619    France  Female   42   \n",
       "1          2    15647311      Hill          608     Spain  Female   41   \n",
       "2          3    15619304      Onio          502    France  Female   42   \n",
       "3          4    15701354      Boni          699    France  Female   39   \n",
       "4          5    15737888  Mitchell          850     Spain  Female   43   \n",
       "\n",
       "   Tenure    Balance  NumOfProducts  HasCrCard  IsActiveMember  \\\n",
       "0       2       0.00              1          1               1   \n",
       "1       1   83807.86              1          0               1   \n",
       "2       8  159660.80              3          1               0   \n",
       "3       1       0.00              2          0               0   \n",
       "4       2  125510.82              1          1               1   \n",
       "\n",
       "   EstimatedSalary  Exited  \n",
       "0        101348.88       1  \n",
       "1        112542.58       0  \n",
       "2        113931.57       1  \n",
       "3         93826.63       0  \n",
       "4         79084.10       0  "
      ]
     },
     "execution_count": 4,
     "metadata": {},
     "output_type": "execute_result"
    }
   ],
   "source": [
    "# Print first 5 rows of the data\n",
    "data_og.head()"
   ]
  },
  {
   "cell_type": "markdown",
   "metadata": {},
   "source": [
    "## Feature Elimination"
   ]
  },
  {
   "cell_type": "code",
   "execution_count": 5,
   "metadata": {},
   "outputs": [
    {
     "name": "stdout",
     "output_type": "stream",
     "text": [
      "RowNumber number of unique values is 10000\n",
      "CustomerId number of unique values is 10000\n",
      "Surname number of unique values is 2932\n",
      "CreditScore number of unique values is 460\n",
      "Geography number of unique values is 3\n",
      "Gender number of unique values is 2\n",
      "Age number of unique values is 70\n",
      "Tenure number of unique values is 11\n",
      "Balance number of unique values is 6382\n",
      "NumOfProducts number of unique values is 4\n",
      "HasCrCard number of unique values is 2\n",
      "IsActiveMember number of unique values is 2\n",
      "EstimatedSalary number of unique values is 9999\n",
      "Exited number of unique values is 2\n"
     ]
    }
   ],
   "source": [
    "for i in data_og.columns:\n",
    "    print('{} number of unique values is {}'.format(data_og[i].name, data_og[i].nunique()))"
   ]
  },
  {
   "cell_type": "markdown",
   "metadata": {},
   "source": [
    "#### Drop columns RowNumber & CustomerId which are unique identifiers for the records"
   ]
  },
  {
   "cell_type": "code",
   "execution_count": 6,
   "metadata": {},
   "outputs": [],
   "source": [
    "data_og = data_og.drop(['RowNumber', 'CustomerId','Surname'], axis=1, inplace=False)"
   ]
  },
  {
   "cell_type": "code",
   "execution_count": 7,
   "metadata": {},
   "outputs": [
    {
     "data": {
      "text/plain": [
       "Index(['CreditScore', 'Geography', 'Gender', 'Age', 'Tenure', 'Balance',\n",
       "       'NumOfProducts', 'HasCrCard', 'IsActiveMember', 'EstimatedSalary',\n",
       "       'Exited'],\n",
       "      dtype='object')"
      ]
     },
     "execution_count": 7,
     "metadata": {},
     "output_type": "execute_result"
    }
   ],
   "source": [
    "data_og.columns"
   ]
  },
  {
   "cell_type": "code",
   "execution_count": 8,
   "metadata": {},
   "outputs": [
    {
     "data": {
      "text/plain": [
       "False"
      ]
     },
     "execution_count": 8,
     "metadata": {},
     "output_type": "execute_result"
    }
   ],
   "source": [
    "# Check for NULL values, which there are none\n",
    "data_og.isnull().values.any()"
   ]
  },
  {
   "cell_type": "code",
   "execution_count": 9,
   "metadata": {},
   "outputs": [
    {
     "data": {
      "text/plain": [
       "0"
      ]
     },
     "execution_count": 9,
     "metadata": {},
     "output_type": "execute_result"
    }
   ],
   "source": [
    "# Check for duplicate records, which there are none\n",
    "data_og.duplicated().sum()"
   ]
  },
  {
   "cell_type": "code",
   "execution_count": 10,
   "metadata": {},
   "outputs": [
    {
     "data": {
      "text/html": [
       "<div>\n",
       "<style scoped>\n",
       "    .dataframe tbody tr th:only-of-type {\n",
       "        vertical-align: middle;\n",
       "    }\n",
       "\n",
       "    .dataframe tbody tr th {\n",
       "        vertical-align: top;\n",
       "    }\n",
       "\n",
       "    .dataframe thead th {\n",
       "        text-align: right;\n",
       "    }\n",
       "</style>\n",
       "<table border=\"1\" class=\"dataframe\">\n",
       "  <thead>\n",
       "    <tr style=\"text-align: right;\">\n",
       "      <th></th>\n",
       "      <th>CreditScore</th>\n",
       "      <th>Age</th>\n",
       "      <th>Tenure</th>\n",
       "      <th>Balance</th>\n",
       "      <th>NumOfProducts</th>\n",
       "      <th>HasCrCard</th>\n",
       "      <th>IsActiveMember</th>\n",
       "      <th>EstimatedSalary</th>\n",
       "      <th>Exited</th>\n",
       "    </tr>\n",
       "  </thead>\n",
       "  <tbody>\n",
       "    <tr>\n",
       "      <th>count</th>\n",
       "      <td>10000.000000</td>\n",
       "      <td>10000.000000</td>\n",
       "      <td>10000.000000</td>\n",
       "      <td>10000.000000</td>\n",
       "      <td>10000.000000</td>\n",
       "      <td>10000.00000</td>\n",
       "      <td>10000.000000</td>\n",
       "      <td>10000.000000</td>\n",
       "      <td>10000.000000</td>\n",
       "    </tr>\n",
       "    <tr>\n",
       "      <th>mean</th>\n",
       "      <td>650.528800</td>\n",
       "      <td>38.921800</td>\n",
       "      <td>5.012800</td>\n",
       "      <td>76485.889288</td>\n",
       "      <td>1.530200</td>\n",
       "      <td>0.70550</td>\n",
       "      <td>0.515100</td>\n",
       "      <td>100090.239881</td>\n",
       "      <td>0.203700</td>\n",
       "    </tr>\n",
       "    <tr>\n",
       "      <th>std</th>\n",
       "      <td>96.653299</td>\n",
       "      <td>10.487806</td>\n",
       "      <td>2.892174</td>\n",
       "      <td>62397.405202</td>\n",
       "      <td>0.581654</td>\n",
       "      <td>0.45584</td>\n",
       "      <td>0.499797</td>\n",
       "      <td>57510.492818</td>\n",
       "      <td>0.402769</td>\n",
       "    </tr>\n",
       "    <tr>\n",
       "      <th>min</th>\n",
       "      <td>350.000000</td>\n",
       "      <td>18.000000</td>\n",
       "      <td>0.000000</td>\n",
       "      <td>0.000000</td>\n",
       "      <td>1.000000</td>\n",
       "      <td>0.00000</td>\n",
       "      <td>0.000000</td>\n",
       "      <td>11.580000</td>\n",
       "      <td>0.000000</td>\n",
       "    </tr>\n",
       "    <tr>\n",
       "      <th>25%</th>\n",
       "      <td>584.000000</td>\n",
       "      <td>32.000000</td>\n",
       "      <td>3.000000</td>\n",
       "      <td>0.000000</td>\n",
       "      <td>1.000000</td>\n",
       "      <td>0.00000</td>\n",
       "      <td>0.000000</td>\n",
       "      <td>51002.110000</td>\n",
       "      <td>0.000000</td>\n",
       "    </tr>\n",
       "    <tr>\n",
       "      <th>50%</th>\n",
       "      <td>652.000000</td>\n",
       "      <td>37.000000</td>\n",
       "      <td>5.000000</td>\n",
       "      <td>97198.540000</td>\n",
       "      <td>1.000000</td>\n",
       "      <td>1.00000</td>\n",
       "      <td>1.000000</td>\n",
       "      <td>100193.915000</td>\n",
       "      <td>0.000000</td>\n",
       "    </tr>\n",
       "    <tr>\n",
       "      <th>75%</th>\n",
       "      <td>718.000000</td>\n",
       "      <td>44.000000</td>\n",
       "      <td>7.000000</td>\n",
       "      <td>127644.240000</td>\n",
       "      <td>2.000000</td>\n",
       "      <td>1.00000</td>\n",
       "      <td>1.000000</td>\n",
       "      <td>149388.247500</td>\n",
       "      <td>0.000000</td>\n",
       "    </tr>\n",
       "    <tr>\n",
       "      <th>max</th>\n",
       "      <td>850.000000</td>\n",
       "      <td>92.000000</td>\n",
       "      <td>10.000000</td>\n",
       "      <td>250898.090000</td>\n",
       "      <td>4.000000</td>\n",
       "      <td>1.00000</td>\n",
       "      <td>1.000000</td>\n",
       "      <td>199992.480000</td>\n",
       "      <td>1.000000</td>\n",
       "    </tr>\n",
       "  </tbody>\n",
       "</table>\n",
       "</div>"
      ],
      "text/plain": [
       "        CreditScore           Age        Tenure        Balance  NumOfProducts  \\\n",
       "count  10000.000000  10000.000000  10000.000000   10000.000000   10000.000000   \n",
       "mean     650.528800     38.921800      5.012800   76485.889288       1.530200   \n",
       "std       96.653299     10.487806      2.892174   62397.405202       0.581654   \n",
       "min      350.000000     18.000000      0.000000       0.000000       1.000000   \n",
       "25%      584.000000     32.000000      3.000000       0.000000       1.000000   \n",
       "50%      652.000000     37.000000      5.000000   97198.540000       1.000000   \n",
       "75%      718.000000     44.000000      7.000000  127644.240000       2.000000   \n",
       "max      850.000000     92.000000     10.000000  250898.090000       4.000000   \n",
       "\n",
       "         HasCrCard  IsActiveMember  EstimatedSalary        Exited  \n",
       "count  10000.00000    10000.000000     10000.000000  10000.000000  \n",
       "mean       0.70550        0.515100    100090.239881      0.203700  \n",
       "std        0.45584        0.499797     57510.492818      0.402769  \n",
       "min        0.00000        0.000000        11.580000      0.000000  \n",
       "25%        0.00000        0.000000     51002.110000      0.000000  \n",
       "50%        1.00000        1.000000    100193.915000      0.000000  \n",
       "75%        1.00000        1.000000    149388.247500      0.000000  \n",
       "max        1.00000        1.000000    199992.480000      1.000000  "
      ]
     },
     "execution_count": 10,
     "metadata": {},
     "output_type": "execute_result"
    }
   ],
   "source": [
    "# Descriptive Stats of the variables\n",
    "data_og.describe()"
   ]
  },
  {
   "cell_type": "code",
   "execution_count": 11,
   "metadata": {},
   "outputs": [
    {
     "name": "stdout",
     "output_type": "stream",
     "text": [
      "0    0.7963\n",
      "1    0.2037\n",
      "Name: Exited, dtype: float64\n"
     ]
    },
    {
     "data": {
      "image/png": "[encoded data removed]",
      "text/plain": [
       "<Figure size 432x288 with 1 Axes>"
      ]
     },
     "metadata": {
      "needs_background": "light"
     },
     "output_type": "display_data"
    },
    {
     "name": "stdout",
     "output_type": "stream",
     "text": [
      "---------\n",
      "France     0.5014\n",
      "Germany    0.2509\n",
      "Spain      0.2477\n",
      "Name: Geography, dtype: float64\n"
     ]
    },
    {
     "data": {
      "image/png": "[encoded data removed]",
      "text/plain": [
       "<Figure size 432x288 with 1 Axes>"
      ]
     },
     "metadata": {
      "needs_background": "light"
     },
     "output_type": "display_data"
    },
    {
     "name": "stdout",
     "output_type": "stream",
     "text": [
      "---------\n"
     ]
    },
    {
     "data": {
      "image/png": "[encoded data removed]",
      "text/plain": [
       "<Figure size 720x720 with 1 Axes>"
      ]
     },
     "metadata": {},
     "output_type": "display_data"
    },
    {
     "name": "stdout",
     "output_type": "stream",
     "text": [
      "---------\n"
     ]
    },
    {
     "data": {
      "image/png": "[encoded data removed]",
      "text/plain": [
       "<Figure size 720x720 with 1 Axes>"
      ]
     },
     "metadata": {},
     "output_type": "display_data"
    },
    {
     "name": "stdout",
     "output_type": "stream",
     "text": [
      "---------\n",
      "1    0.5084\n",
      "2    0.4590\n",
      "3    0.0266\n",
      "4    0.0060\n",
      "Name: NumOfProducts, dtype: float64\n"
     ]
    },
    {
     "data": {
      "image/png": "[encoded data removed]",
      "text/plain": [
       "<Figure size 432x288 with 1 Axes>"
      ]
     },
     "metadata": {
      "needs_background": "light"
     },
     "output_type": "display_data"
    },
    {
     "name": "stdout",
     "output_type": "stream",
     "text": [
      "---------\n",
      "1    0.7055\n",
      "0    0.2945\n",
      "Name: HasCrCard, dtype: float64\n"
     ]
    },
    {
     "data": {
      "image/png": "[encoded data removed]",
      "text/plain": [
       "<Figure size 432x288 with 1 Axes>"
      ]
     },
     "metadata": {
      "needs_background": "light"
     },
     "output_type": "display_data"
    },
    {
     "name": "stdout",
     "output_type": "stream",
     "text": [
      "---------\n",
      "1    0.5151\n",
      "0    0.4849\n",
      "Name: IsActiveMember, dtype: float64\n"
     ]
    },
    {
     "data": {
      "image/png": "[encoded data removed]",
      "text/plain": [
       "<Figure size 432x288 with 1 Axes>"
      ]
     },
     "metadata": {
      "needs_background": "light"
     },
     "output_type": "display_data"
    },
    {
     "name": "stdout",
     "output_type": "stream",
     "text": [
      "---------\n"
     ]
    }
   ],
   "source": [
    "# Plot Pie and Bar charts for independent variables\n",
    "for i in data_og[['Exited','Geography','Age','Tenure','NumOfProducts','HasCrCard','IsActiveMember']].columns:\n",
    "    if (data_og[i].unique().shape[0] <= 10):\n",
    "        print(data_og[i].value_counts(ascending=False, normalize=True))\n",
    "        data_og[i].value_counts(ascending=False, normalize=True).plot(kind='bar')\n",
    "        plt.ylabel('% Frequency', fontsize=14)\n",
    "        plt.xlabel(data_og[i].name, fontsize=14)\n",
    "    else:\n",
    "        data_og[i].value_counts(ascending=False, normalize=True).plot(kind='pie',autopct='%1.0f%%',figsize=(10, 10))\n",
    "    plt.show()\n",
    "    print('---------')"
   ]
  },
  {
   "cell_type": "markdown",
   "metadata": {},
   "source": [
    "#### Analysis of univariate\n",
    "- 79.6% of customers existed the bank, while 20.4% stayed after 6 months\n",
    "- Most customers are between ages 30-40 years old\n",
    "- Tenure for customer is 10% each of 1-9 years, with 4% for 0 years and 5% for 10 years\n",
    "- Majority of customers have 1 product (50.8%) and 2 products (15.9%)\n",
    "- 70% of customers have 1 credit card, while the rest have none\n",
    "- 51.5% are active members, while 48.5 are not active\n",
    "- Half of customers are from France, while a quarter are from each of Germany and Spain"
   ]
  },
  {
   "cell_type": "markdown",
   "metadata": {},
   "source": [
    "## Bivariate Exploratory Data Analysis"
   ]
  },
  {
   "cell_type": "markdown",
   "metadata": {},
   "source": [
    "#### Create new DataFrame \"data\" with Geography converted to digits Geo_Tmp"
   ]
  },
  {
   "cell_type": "code",
   "execution_count": 12,
   "metadata": {},
   "outputs": [],
   "source": [
    "data = data_og.copy()\n",
    "data['Geo_Tmp'] = data['Geography'].replace(['France','Germany','Spain'], [1, 2, 3])\n",
    "data['Gender_Tmp'] = data['Gender'].replace(['Male','Female'], [0, 1])"
   ]
  },
  {
   "cell_type": "code",
   "execution_count": 13,
   "metadata": {
    "scrolled": false
   },
   "outputs": [],
   "source": [
    "# Plotting pair plots of independent variables with a hue of the \"Exited\" dependent variable\n",
    "#sns.pairplot(data, hue='Exited');"
   ]
  },
  {
   "cell_type": "code",
   "execution_count": 14,
   "metadata": {
    "scrolled": true
   },
   "outputs": [
    {
     "name": "stdout",
     "output_type": "stream",
     "text": [
      "HasCrCard     0     1\n",
      "Exited               \n",
      "0          2332  5631\n",
      "1           613  1424\n",
      "---------\n",
      "Gender  Female  Male\n",
      "Exited              \n",
      "0         3404  4559\n",
      "1         1139   898\n",
      "---------\n",
      "Geography  France  Germany  Spain\n",
      "Exited                           \n",
      "0            4204     1695   2064\n",
      "1             810      814    413\n",
      "---------\n"
     ]
    }
   ],
   "source": [
    "# CrossTab of categorical variables\n",
    "for i in data[['Exited']].columns:\n",
    "    for j in data[['HasCrCard','Gender','Geography']].columns:\n",
    "        if (i != j):\n",
    "            print(pd.crosstab(data[i], data[j]))\n",
    "            print('---------')           "
   ]
  },
  {
   "cell_type": "code",
   "execution_count": 15,
   "metadata": {},
   "outputs": [
    {
     "data": {
      "image/png": "[encoded data removed]",
      "text/plain": [
       "<Figure size 1440x1440 with 3 Axes>"
      ]
     },
     "metadata": {
      "needs_background": "light"
     },
     "output_type": "display_data"
    }
   ],
   "source": [
    "# Box Plots to show distribution of Continuous dependant variables with respect to Exited\n",
    "plt.figure(figsize=(20, 20))\n",
    "p = 1\n",
    "for i in data[['CreditScore', 'Balance', 'EstimatedSalary']].columns:\n",
    "    plt.subplot(3, 3, p)\n",
    "    sns.boxplot(x='Exited', y=data[i], data=data)\n",
    "    p += 1 "
   ]
  },
  {
   "cell_type": "markdown",
   "metadata": {},
   "source": [
    "#### Insights from Pairplot & CrossTab\n",
    "- Age - average age for those who exited is higher than those who stayed\n",
    "- Balance - the balance distribution shows two gaussians for those who stayed and those who exited. Those who stayed have more clients with a lower balance, than those with a higher balance. Those who exited have more clients with a higher balance than those with a lower balance\n",
    "- NumOfProducts - clients who stayed mostly have 1 or 2 products, while those who left mostly have 1 product as well a few who had 2/3/4 products\n",
    "- HasCrCard - double the customers have 1 credit card compared to 0 credit cards, whether they exited (1424:613) or not (5631:2332)\n",
    "- Geography - 19.3% of France customers existed (810/4204), 48% of German customers existed (814/1695) and 20% of France customers existed (413/2064)\n",
    "- Gender - 33.5% of Female customers exited(1139/3404), while 19.7% of Male customers exited (898/4559)\n",
    "- IsActiveMember - Group of clients that exited have double the inactive members (1302) compared to active members (735). Clients that stayed have slightly more active members (4416) than inactive members (3547)\n",
    "- EstimatedSalary, Tenure, CreditScore - these independent variables do not distinguish between clients who exited and those who stayed\n",
    "\n",
    "#### Insights from BoxPlot\n",
    "- CreditScore - customers with credit score below 400 exited the bank\n",
    "- EstimatedSalary - does not distinguish between clients who exited and those who stayed"
   ]
  },
  {
   "cell_type": "code",
   "execution_count": 16,
   "metadata": {},
   "outputs": [
    {
     "data": {
      "text/html": [
       "<div>\n",
       "<style scoped>\n",
       "    .dataframe tbody tr th:only-of-type {\n",
       "        vertical-align: middle;\n",
       "    }\n",
       "\n",
       "    .dataframe tbody tr th {\n",
       "        vertical-align: top;\n",
       "    }\n",
       "\n",
       "    .dataframe thead th {\n",
       "        text-align: right;\n",
       "    }\n",
       "</style>\n",
       "<table border=\"1\" class=\"dataframe\">\n",
       "  <thead>\n",
       "    <tr style=\"text-align: right;\">\n",
       "      <th></th>\n",
       "      <th>CreditScore</th>\n",
       "      <th>Age</th>\n",
       "      <th>Tenure</th>\n",
       "      <th>Balance</th>\n",
       "      <th>NumOfProducts</th>\n",
       "      <th>HasCrCard</th>\n",
       "      <th>IsActiveMember</th>\n",
       "      <th>EstimatedSalary</th>\n",
       "      <th>Exited</th>\n",
       "      <th>Gender_Male</th>\n",
       "      <th>Geography_France</th>\n",
       "      <th>Geography_Germany</th>\n",
       "      <th>Geography_Spain</th>\n",
       "    </tr>\n",
       "  </thead>\n",
       "  <tbody>\n",
       "    <tr>\n",
       "      <th>0</th>\n",
       "      <td>619</td>\n",
       "      <td>42</td>\n",
       "      <td>2</td>\n",
       "      <td>0.00</td>\n",
       "      <td>1</td>\n",
       "      <td>1</td>\n",
       "      <td>1</td>\n",
       "      <td>101348.88</td>\n",
       "      <td>1</td>\n",
       "      <td>0</td>\n",
       "      <td>1</td>\n",
       "      <td>0</td>\n",
       "      <td>0</td>\n",
       "    </tr>\n",
       "    <tr>\n",
       "      <th>1</th>\n",
       "      <td>608</td>\n",
       "      <td>41</td>\n",
       "      <td>1</td>\n",
       "      <td>83807.86</td>\n",
       "      <td>1</td>\n",
       "      <td>0</td>\n",
       "      <td>1</td>\n",
       "      <td>112542.58</td>\n",
       "      <td>0</td>\n",
       "      <td>0</td>\n",
       "      <td>0</td>\n",
       "      <td>0</td>\n",
       "      <td>1</td>\n",
       "    </tr>\n",
       "    <tr>\n",
       "      <th>2</th>\n",
       "      <td>502</td>\n",
       "      <td>42</td>\n",
       "      <td>8</td>\n",
       "      <td>159660.80</td>\n",
       "      <td>3</td>\n",
       "      <td>1</td>\n",
       "      <td>0</td>\n",
       "      <td>113931.57</td>\n",
       "      <td>1</td>\n",
       "      <td>0</td>\n",
       "      <td>1</td>\n",
       "      <td>0</td>\n",
       "      <td>0</td>\n",
       "    </tr>\n",
       "    <tr>\n",
       "      <th>3</th>\n",
       "      <td>699</td>\n",
       "      <td>39</td>\n",
       "      <td>1</td>\n",
       "      <td>0.00</td>\n",
       "      <td>2</td>\n",
       "      <td>0</td>\n",
       "      <td>0</td>\n",
       "      <td>93826.63</td>\n",
       "      <td>0</td>\n",
       "      <td>0</td>\n",
       "      <td>1</td>\n",
       "      <td>0</td>\n",
       "      <td>0</td>\n",
       "    </tr>\n",
       "    <tr>\n",
       "      <th>4</th>\n",
       "      <td>850</td>\n",
       "      <td>43</td>\n",
       "      <td>2</td>\n",
       "      <td>125510.82</td>\n",
       "      <td>1</td>\n",
       "      <td>1</td>\n",
       "      <td>1</td>\n",
       "      <td>79084.10</td>\n",
       "      <td>0</td>\n",
       "      <td>0</td>\n",
       "      <td>0</td>\n",
       "      <td>0</td>\n",
       "      <td>1</td>\n",
       "    </tr>\n",
       "  </tbody>\n",
       "</table>\n",
       "</div>"
      ],
      "text/plain": [
       "   CreditScore  Age  Tenure    Balance  NumOfProducts  HasCrCard  \\\n",
       "0          619   42       2       0.00              1          1   \n",
       "1          608   41       1   83807.86              1          0   \n",
       "2          502   42       8  159660.80              3          1   \n",
       "3          699   39       1       0.00              2          0   \n",
       "4          850   43       2  125510.82              1          1   \n",
       "\n",
       "   IsActiveMember  EstimatedSalary  Exited  Gender_Male  Geography_France  \\\n",
       "0               1        101348.88       1            0                 1   \n",
       "1               1        112542.58       0            0                 0   \n",
       "2               0        113931.57       1            0                 1   \n",
       "3               0         93826.63       0            0                 1   \n",
       "4               1         79084.10       0            0                 0   \n",
       "\n",
       "   Geography_Germany  Geography_Spain  \n",
       "0                  0                0  \n",
       "1                  0                1  \n",
       "2                  0                0  \n",
       "3                  0                0  \n",
       "4                  0                1  "
      ]
     },
     "execution_count": 16,
     "metadata": {},
     "output_type": "execute_result"
    }
   ],
   "source": [
    "# Drop Geo_Tmp & Gender_Tmp\n",
    "data.drop(columns=['Geo_Tmp'], inplace=True, axis=1)\n",
    "data.drop(columns=['Gender_Tmp'], inplace=True, axis=1)\n",
    "\n",
    "# One-Hot Encoding of Geography & Gender\n",
    "data = pd.get_dummies(data, columns=['Gender'], drop_first=True)\n",
    "data = pd.get_dummies(data, columns=['Geography'], drop_first=False)\n",
    "\n",
    "data.head()"
   ]
  },
  {
   "cell_type": "code",
   "execution_count": 17,
   "metadata": {},
   "outputs": [
    {
     "data": {
      "image/png": "[encoded data removed]",
      "text/plain": [
       "<Figure size 1296x864 with 1 Axes>"
      ]
     },
     "metadata": {
      "needs_background": "light"
     },
     "output_type": "display_data"
    }
   ],
   "source": [
    "corr = abs(data.corr()) # correlation matrix\n",
    "lower_triangle = np.tril(corr, k = -1)  # select only the lower triangle of the correlation matrix\n",
    "mask = lower_triangle == 0  # to mask the upper triangle in the following heatmap\n",
    "\n",
    "plt.figure(figsize = (18,12))  # setting the figure size\n",
    "sns.set_style(style = 'white')  # Setting it to white so that we do not see the grid lines\n",
    "sns.heatmap(lower_triangle, center=0.5, cmap= 'Blues', annot= True, xticklabels = corr.index, yticklabels = corr.columns,\n",
    "            cbar= False, linewidths= 1, mask = mask)   # Da Heatmap\n",
    "plt.xticks(rotation = 50)   # Aesthetic purposes\n",
    "plt.yticks(rotation = 20)   # Aesthetic purposes\n",
    "plt.show()"
   ]
  },
  {
   "cell_type": "markdown",
   "metadata": {},
   "source": [
    "#### Insights from Correlation HeatMap\n",
    "- The remaining independent variables have no correlation between them"
   ]
  },
  {
   "cell_type": "markdown",
   "metadata": {},
   "source": [
    "## Data Split"
   ]
  },
  {
   "cell_type": "code",
   "execution_count": 18,
   "metadata": {},
   "outputs": [
    {
     "data": {
      "text/plain": [
       "<matplotlib.axes._subplots.AxesSubplot at 0x16d18621a00>"
      ]
     },
     "execution_count": 18,
     "metadata": {},
     "output_type": "execute_result"
    },
    {
     "data": {
      "image/png": "[encoded data removed]",
      "text/plain": [
       "<Figure size 360x360 with 1 Axes>"
      ]
     },
     "metadata": {},
     "output_type": "display_data"
    }
   ],
   "source": [
    "data['Exited'].value_counts(ascending=False).plot(kind='pie',autopct='%1.0f%%',figsize=(5, 5), title='Raw Exited Split')"
   ]
  },
  {
   "cell_type": "markdown",
   "metadata": {},
   "source": [
    "#### Train, Test & Validation matrices (raw data):\n",
    "- Training Raw data: X0_train, y0_train\n",
    "- Validation Raw data: X0_valid, y0_valid\n",
    "- Cross Validation Raw data: X1_train, y_train\n",
    "- Test Raw Data: X1_test, y_test\n",
    "\n",
    "#### Train, Test & Validation matrices (scaled data):\n",
    "\n",
    "- Training Scaled data: X0_train1\n",
    "- Validation Scaled data: X0_valid1\n",
    "- Training Scaled data for Final Model: X1_train1\n",
    "- Test Scaled Data: X1_test"
   ]
  },
  {
   "cell_type": "code",
   "execution_count": 19,
   "metadata": {},
   "outputs": [
    {
     "data": {
      "text/html": [
       "<div>\n",
       "<style scoped>\n",
       "    .dataframe tbody tr th:only-of-type {\n",
       "        vertical-align: middle;\n",
       "    }\n",
       "\n",
       "    .dataframe tbody tr th {\n",
       "        vertical-align: top;\n",
       "    }\n",
       "\n",
       "    .dataframe thead th {\n",
       "        text-align: right;\n",
       "    }\n",
       "</style>\n",
       "<table border=\"1\" class=\"dataframe\">\n",
       "  <thead>\n",
       "    <tr style=\"text-align: right;\">\n",
       "      <th></th>\n",
       "      <th>CreditScore</th>\n",
       "      <th>Age</th>\n",
       "      <th>Tenure</th>\n",
       "      <th>Balance</th>\n",
       "      <th>NumOfProducts</th>\n",
       "      <th>HasCrCard</th>\n",
       "      <th>IsActiveMember</th>\n",
       "      <th>EstimatedSalary</th>\n",
       "      <th>Gender_Male</th>\n",
       "      <th>Geography_France</th>\n",
       "      <th>Geography_Germany</th>\n",
       "      <th>Geography_Spain</th>\n",
       "    </tr>\n",
       "  </thead>\n",
       "  <tbody>\n",
       "    <tr>\n",
       "      <th>0</th>\n",
       "      <td>619</td>\n",
       "      <td>42</td>\n",
       "      <td>2</td>\n",
       "      <td>0.00</td>\n",
       "      <td>1</td>\n",
       "      <td>1</td>\n",
       "      <td>1</td>\n",
       "      <td>101348.88</td>\n",
       "      <td>0</td>\n",
       "      <td>1</td>\n",
       "      <td>0</td>\n",
       "      <td>0</td>\n",
       "    </tr>\n",
       "    <tr>\n",
       "      <th>1</th>\n",
       "      <td>608</td>\n",
       "      <td>41</td>\n",
       "      <td>1</td>\n",
       "      <td>83807.86</td>\n",
       "      <td>1</td>\n",
       "      <td>0</td>\n",
       "      <td>1</td>\n",
       "      <td>112542.58</td>\n",
       "      <td>0</td>\n",
       "      <td>0</td>\n",
       "      <td>0</td>\n",
       "      <td>1</td>\n",
       "    </tr>\n",
       "    <tr>\n",
       "      <th>2</th>\n",
       "      <td>502</td>\n",
       "      <td>42</td>\n",
       "      <td>8</td>\n",
       "      <td>159660.80</td>\n",
       "      <td>3</td>\n",
       "      <td>1</td>\n",
       "      <td>0</td>\n",
       "      <td>113931.57</td>\n",
       "      <td>0</td>\n",
       "      <td>1</td>\n",
       "      <td>0</td>\n",
       "      <td>0</td>\n",
       "    </tr>\n",
       "    <tr>\n",
       "      <th>3</th>\n",
       "      <td>699</td>\n",
       "      <td>39</td>\n",
       "      <td>1</td>\n",
       "      <td>0.00</td>\n",
       "      <td>2</td>\n",
       "      <td>0</td>\n",
       "      <td>0</td>\n",
       "      <td>93826.63</td>\n",
       "      <td>0</td>\n",
       "      <td>1</td>\n",
       "      <td>0</td>\n",
       "      <td>0</td>\n",
       "    </tr>\n",
       "    <tr>\n",
       "      <th>4</th>\n",
       "      <td>850</td>\n",
       "      <td>43</td>\n",
       "      <td>2</td>\n",
       "      <td>125510.82</td>\n",
       "      <td>1</td>\n",
       "      <td>1</td>\n",
       "      <td>1</td>\n",
       "      <td>79084.10</td>\n",
       "      <td>0</td>\n",
       "      <td>0</td>\n",
       "      <td>0</td>\n",
       "      <td>1</td>\n",
       "    </tr>\n",
       "  </tbody>\n",
       "</table>\n",
       "</div>"
      ],
      "text/plain": [
       "   CreditScore  Age  Tenure    Balance  NumOfProducts  HasCrCard  \\\n",
       "0          619   42       2       0.00              1          1   \n",
       "1          608   41       1   83807.86              1          0   \n",
       "2          502   42       8  159660.80              3          1   \n",
       "3          699   39       1       0.00              2          0   \n",
       "4          850   43       2  125510.82              1          1   \n",
       "\n",
       "   IsActiveMember  EstimatedSalary  Gender_Male  Geography_France  \\\n",
       "0               1        101348.88            0                 1   \n",
       "1               1        112542.58            0                 0   \n",
       "2               0        113931.57            0                 1   \n",
       "3               0         93826.63            0                 1   \n",
       "4               1         79084.10            0                 0   \n",
       "\n",
       "   Geography_Germany  Geography_Spain  \n",
       "0                  0                0  \n",
       "1                  0                1  \n",
       "2                  0                0  \n",
       "3                  0                0  \n",
       "4                  0                1  "
      ]
     },
     "execution_count": 19,
     "metadata": {},
     "output_type": "execute_result"
    }
   ],
   "source": [
    "# Create matrix X1 and y\n",
    "y = data['Exited']\n",
    "X1 = data.drop(['Exited'], axis=1, inplace=False)\n",
    "X1.head()"
   ]
  },
  {
   "cell_type": "code",
   "execution_count": 20,
   "metadata": {},
   "outputs": [
    {
     "data": {
      "text/plain": [
       "0    1\n",
       "1    0\n",
       "2    1\n",
       "3    0\n",
       "4    0\n",
       "Name: Exited, dtype: int64"
      ]
     },
     "execution_count": 20,
     "metadata": {},
     "output_type": "execute_result"
    }
   ],
   "source": [
    "y.head()"
   ]
  },
  {
   "cell_type": "code",
   "execution_count": 21,
   "metadata": {},
   "outputs": [],
   "source": [
    "# Generate and store Train & Testing data: X1_train, X1_test\n",
    "X1_train, X1_test, y_train, y_test = train_test_split(X1, y, test_size=0.3, random_state=3)"
   ]
  },
  {
   "cell_type": "code",
   "execution_count": 22,
   "metadata": {},
   "outputs": [],
   "source": [
    "# Generate and store Train & Validation data: X0_train, X0_valid\n",
    "X0_train, X0_valid, y0_train, y0_valid = train_test_split(X1_train, y_train, test_size=0.3, random_state=3)"
   ]
  },
  {
   "cell_type": "code",
   "execution_count": 23,
   "metadata": {},
   "outputs": [
    {
     "data": {
      "text/plain": [
       "((7000, 12), (3000, 12), (7000,), (3000,))"
      ]
     },
     "execution_count": 23,
     "metadata": {},
     "output_type": "execute_result"
    }
   ],
   "source": [
    "X1_train.shape, X1_test.shape, y_train.shape, y_test.shape"
   ]
  },
  {
   "cell_type": "markdown",
   "metadata": {},
   "source": [
    "#### Review balance state of dependant variable in train and test data\n",
    "- Equal split ratio of 0 & 1 classes, in train, validation and test data"
   ]
  },
  {
   "cell_type": "code",
   "execution_count": 24,
   "metadata": {},
   "outputs": [
    {
     "data": {
      "text/plain": [
       "<matplotlib.axes._subplots.AxesSubplot at 0x16d187e6460>"
      ]
     },
     "execution_count": 24,
     "metadata": {},
     "output_type": "execute_result"
    },
    {
     "data": {
      "image/png": "[encoded data removed]",
      "text/plain": [
       "<Figure size 720x720 with 3 Axes>"
      ]
     },
     "metadata": {},
     "output_type": "display_data"
    }
   ],
   "source": [
    "plt.subplot(1, 3, 1, title='Train Exited Split')\n",
    "y_train.value_counts(ascending=False).plot(kind='pie',autopct='%1.0f%%',figsize=(10, 10))\n",
    "plt.subplot(1, 3, 2, title='Validation Exited Split')\n",
    "y0_train.value_counts(ascending=False).plot(kind='pie',autopct='%1.0f%%',figsize=(10, 10))\n",
    "plt.subplot(1, 3, 3, title='Test Exited Split')\n",
    "y_test.value_counts(ascending=False).plot(kind='pie',autopct='%1.0f%%',figsize=(10, 10))"
   ]
  },
  {
   "cell_type": "markdown",
   "metadata": {},
   "source": [
    "## Normalization"
   ]
  },
  {
   "cell_type": "code",
   "execution_count": 25,
   "metadata": {},
   "outputs": [
    {
     "data": {
      "text/html": [
       "<div>\n",
       "<style scoped>\n",
       "    .dataframe tbody tr th:only-of-type {\n",
       "        vertical-align: middle;\n",
       "    }\n",
       "\n",
       "    .dataframe tbody tr th {\n",
       "        vertical-align: top;\n",
       "    }\n",
       "\n",
       "    .dataframe thead th {\n",
       "        text-align: right;\n",
       "    }\n",
       "</style>\n",
       "<table border=\"1\" class=\"dataframe\">\n",
       "  <thead>\n",
       "    <tr style=\"text-align: right;\">\n",
       "      <th></th>\n",
       "      <th>CreditScore</th>\n",
       "      <th>Age</th>\n",
       "      <th>Tenure</th>\n",
       "      <th>Balance</th>\n",
       "      <th>NumOfProducts</th>\n",
       "      <th>HasCrCard</th>\n",
       "      <th>IsActiveMember</th>\n",
       "      <th>EstimatedSalary</th>\n",
       "      <th>Gender_Male</th>\n",
       "      <th>Geography_France</th>\n",
       "      <th>Geography_Germany</th>\n",
       "      <th>Geography_Spain</th>\n",
       "    </tr>\n",
       "  </thead>\n",
       "  <tbody>\n",
       "    <tr>\n",
       "      <th>5795</th>\n",
       "      <td>709</td>\n",
       "      <td>39</td>\n",
       "      <td>8</td>\n",
       "      <td>0.00</td>\n",
       "      <td>2</td>\n",
       "      <td>1</td>\n",
       "      <td>0</td>\n",
       "      <td>56214.09</td>\n",
       "      <td>1</td>\n",
       "      <td>1</td>\n",
       "      <td>0</td>\n",
       "      <td>0</td>\n",
       "    </tr>\n",
       "    <tr>\n",
       "      <th>1490</th>\n",
       "      <td>797</td>\n",
       "      <td>31</td>\n",
       "      <td>8</td>\n",
       "      <td>0.00</td>\n",
       "      <td>2</td>\n",
       "      <td>1</td>\n",
       "      <td>0</td>\n",
       "      <td>117916.63</td>\n",
       "      <td>0</td>\n",
       "      <td>0</td>\n",
       "      <td>0</td>\n",
       "      <td>1</td>\n",
       "    </tr>\n",
       "    <tr>\n",
       "      <th>3807</th>\n",
       "      <td>470</td>\n",
       "      <td>30</td>\n",
       "      <td>3</td>\n",
       "      <td>101140.76</td>\n",
       "      <td>1</td>\n",
       "      <td>1</td>\n",
       "      <td>1</td>\n",
       "      <td>50906.65</td>\n",
       "      <td>1</td>\n",
       "      <td>1</td>\n",
       "      <td>0</td>\n",
       "      <td>0</td>\n",
       "    </tr>\n",
       "    <tr>\n",
       "      <th>3042</th>\n",
       "      <td>835</td>\n",
       "      <td>29</td>\n",
       "      <td>10</td>\n",
       "      <td>130420.20</td>\n",
       "      <td>2</td>\n",
       "      <td>0</td>\n",
       "      <td>0</td>\n",
       "      <td>106276.55</td>\n",
       "      <td>0</td>\n",
       "      <td>0</td>\n",
       "      <td>1</td>\n",
       "      <td>0</td>\n",
       "    </tr>\n",
       "    <tr>\n",
       "      <th>4064</th>\n",
       "      <td>626</td>\n",
       "      <td>39</td>\n",
       "      <td>10</td>\n",
       "      <td>132287.92</td>\n",
       "      <td>3</td>\n",
       "      <td>1</td>\n",
       "      <td>1</td>\n",
       "      <td>51467.92</td>\n",
       "      <td>1</td>\n",
       "      <td>0</td>\n",
       "      <td>1</td>\n",
       "      <td>0</td>\n",
       "    </tr>\n",
       "    <tr>\n",
       "      <th>...</th>\n",
       "      <td>...</td>\n",
       "      <td>...</td>\n",
       "      <td>...</td>\n",
       "      <td>...</td>\n",
       "      <td>...</td>\n",
       "      <td>...</td>\n",
       "      <td>...</td>\n",
       "      <td>...</td>\n",
       "      <td>...</td>\n",
       "      <td>...</td>\n",
       "      <td>...</td>\n",
       "      <td>...</td>\n",
       "    </tr>\n",
       "    <tr>\n",
       "      <th>6400</th>\n",
       "      <td>676</td>\n",
       "      <td>30</td>\n",
       "      <td>5</td>\n",
       "      <td>0.00</td>\n",
       "      <td>2</td>\n",
       "      <td>0</td>\n",
       "      <td>0</td>\n",
       "      <td>179066.58</td>\n",
       "      <td>0</td>\n",
       "      <td>0</td>\n",
       "      <td>0</td>\n",
       "      <td>1</td>\n",
       "    </tr>\n",
       "    <tr>\n",
       "      <th>9160</th>\n",
       "      <td>778</td>\n",
       "      <td>24</td>\n",
       "      <td>4</td>\n",
       "      <td>0.00</td>\n",
       "      <td>2</td>\n",
       "      <td>1</td>\n",
       "      <td>1</td>\n",
       "      <td>162809.20</td>\n",
       "      <td>1</td>\n",
       "      <td>1</td>\n",
       "      <td>0</td>\n",
       "      <td>0</td>\n",
       "    </tr>\n",
       "    <tr>\n",
       "      <th>9859</th>\n",
       "      <td>678</td>\n",
       "      <td>55</td>\n",
       "      <td>4</td>\n",
       "      <td>129646.91</td>\n",
       "      <td>1</td>\n",
       "      <td>1</td>\n",
       "      <td>1</td>\n",
       "      <td>184125.10</td>\n",
       "      <td>1</td>\n",
       "      <td>0</td>\n",
       "      <td>1</td>\n",
       "      <td>0</td>\n",
       "    </tr>\n",
       "    <tr>\n",
       "      <th>1688</th>\n",
       "      <td>601</td>\n",
       "      <td>41</td>\n",
       "      <td>1</td>\n",
       "      <td>0.00</td>\n",
       "      <td>2</td>\n",
       "      <td>0</td>\n",
       "      <td>1</td>\n",
       "      <td>160607.06</td>\n",
       "      <td>0</td>\n",
       "      <td>1</td>\n",
       "      <td>0</td>\n",
       "      <td>0</td>\n",
       "    </tr>\n",
       "    <tr>\n",
       "      <th>5994</th>\n",
       "      <td>580</td>\n",
       "      <td>35</td>\n",
       "      <td>10</td>\n",
       "      <td>136281.41</td>\n",
       "      <td>2</td>\n",
       "      <td>1</td>\n",
       "      <td>1</td>\n",
       "      <td>24799.47</td>\n",
       "      <td>1</td>\n",
       "      <td>0</td>\n",
       "      <td>1</td>\n",
       "      <td>0</td>\n",
       "    </tr>\n",
       "  </tbody>\n",
       "</table>\n",
       "<p>7000 rows × 12 columns</p>\n",
       "</div>"
      ],
      "text/plain": [
       "      CreditScore  Age  Tenure    Balance  NumOfProducts  HasCrCard  \\\n",
       "5795          709   39       8       0.00              2          1   \n",
       "1490          797   31       8       0.00              2          1   \n",
       "3807          470   30       3  101140.76              1          1   \n",
       "3042          835   29      10  130420.20              2          0   \n",
       "4064          626   39      10  132287.92              3          1   \n",
       "...           ...  ...     ...        ...            ...        ...   \n",
       "6400          676   30       5       0.00              2          0   \n",
       "9160          778   24       4       0.00              2          1   \n",
       "9859          678   55       4  129646.91              1          1   \n",
       "1688          601   41       1       0.00              2          0   \n",
       "5994          580   35      10  136281.41              2          1   \n",
       "\n",
       "      IsActiveMember  EstimatedSalary  Gender_Male  Geography_France  \\\n",
       "5795               0         56214.09            1                 1   \n",
       "1490               0        117916.63            0                 0   \n",
       "3807               1         50906.65            1                 1   \n",
       "3042               0        106276.55            0                 0   \n",
       "4064               1         51467.92            1                 0   \n",
       "...              ...              ...          ...               ...   \n",
       "6400               0        179066.58            0                 0   \n",
       "9160               1        162809.20            1                 1   \n",
       "9859               1        184125.10            1                 0   \n",
       "1688               1        160607.06            0                 1   \n",
       "5994               1         24799.47            1                 0   \n",
       "\n",
       "      Geography_Germany  Geography_Spain  \n",
       "5795                  0                0  \n",
       "1490                  0                1  \n",
       "3807                  0                0  \n",
       "3042                  1                0  \n",
       "4064                  1                0  \n",
       "...                 ...              ...  \n",
       "6400                  0                1  \n",
       "9160                  0                0  \n",
       "9859                  1                0  \n",
       "1688                  0                0  \n",
       "5994                  1                0  \n",
       "\n",
       "[7000 rows x 12 columns]"
      ]
     },
     "execution_count": 25,
     "metadata": {},
     "output_type": "execute_result"
    }
   ],
   "source": [
    "X1_train"
   ]
  },
  {
   "cell_type": "code",
   "execution_count": 26,
   "metadata": {},
   "outputs": [
    {
     "data": {
      "text/html": [
       "<div>\n",
       "<style scoped>\n",
       "    .dataframe tbody tr th:only-of-type {\n",
       "        vertical-align: middle;\n",
       "    }\n",
       "\n",
       "    .dataframe tbody tr th {\n",
       "        vertical-align: top;\n",
       "    }\n",
       "\n",
       "    .dataframe thead th {\n",
       "        text-align: right;\n",
       "    }\n",
       "</style>\n",
       "<table border=\"1\" class=\"dataframe\">\n",
       "  <thead>\n",
       "    <tr style=\"text-align: right;\">\n",
       "      <th></th>\n",
       "      <th>CreditScore</th>\n",
       "      <th>Age</th>\n",
       "      <th>Tenure</th>\n",
       "      <th>Balance</th>\n",
       "      <th>NumOfProducts</th>\n",
       "      <th>HasCrCard</th>\n",
       "      <th>IsActiveMember</th>\n",
       "      <th>EstimatedSalary</th>\n",
       "      <th>Gender_Male</th>\n",
       "      <th>Geography_France</th>\n",
       "      <th>Geography_Germany</th>\n",
       "      <th>Geography_Spain</th>\n",
       "    </tr>\n",
       "  </thead>\n",
       "  <tbody>\n",
       "    <tr>\n",
       "      <th>count</th>\n",
       "      <td>7000.000000</td>\n",
       "      <td>7000.000000</td>\n",
       "      <td>7000.000000</td>\n",
       "      <td>7000.000000</td>\n",
       "      <td>7000.000000</td>\n",
       "      <td>7000.000000</td>\n",
       "      <td>7000.000000</td>\n",
       "      <td>7000.000000</td>\n",
       "      <td>7000.000000</td>\n",
       "      <td>7000.000000</td>\n",
       "      <td>7000.000000</td>\n",
       "      <td>7000.000000</td>\n",
       "    </tr>\n",
       "    <tr>\n",
       "      <th>mean</th>\n",
       "      <td>650.764286</td>\n",
       "      <td>38.854571</td>\n",
       "      <td>5.007571</td>\n",
       "      <td>76307.841974</td>\n",
       "      <td>1.531286</td>\n",
       "      <td>0.703286</td>\n",
       "      <td>0.513286</td>\n",
       "      <td>99459.704037</td>\n",
       "      <td>0.544714</td>\n",
       "      <td>0.502000</td>\n",
       "      <td>0.254714</td>\n",
       "      <td>0.243286</td>\n",
       "    </tr>\n",
       "    <tr>\n",
       "      <th>std</th>\n",
       "      <td>96.306040</td>\n",
       "      <td>10.464699</td>\n",
       "      <td>2.887929</td>\n",
       "      <td>62379.324360</td>\n",
       "      <td>0.581069</td>\n",
       "      <td>0.456842</td>\n",
       "      <td>0.499859</td>\n",
       "      <td>57532.855761</td>\n",
       "      <td>0.498032</td>\n",
       "      <td>0.500032</td>\n",
       "      <td>0.435732</td>\n",
       "      <td>0.429097</td>\n",
       "    </tr>\n",
       "    <tr>\n",
       "      <th>min</th>\n",
       "      <td>350.000000</td>\n",
       "      <td>18.000000</td>\n",
       "      <td>0.000000</td>\n",
       "      <td>0.000000</td>\n",
       "      <td>1.000000</td>\n",
       "      <td>0.000000</td>\n",
       "      <td>0.000000</td>\n",
       "      <td>11.580000</td>\n",
       "      <td>0.000000</td>\n",
       "      <td>0.000000</td>\n",
       "      <td>0.000000</td>\n",
       "      <td>0.000000</td>\n",
       "    </tr>\n",
       "    <tr>\n",
       "      <th>25%</th>\n",
       "      <td>584.000000</td>\n",
       "      <td>32.000000</td>\n",
       "      <td>3.000000</td>\n",
       "      <td>0.000000</td>\n",
       "      <td>1.000000</td>\n",
       "      <td>0.000000</td>\n",
       "      <td>0.000000</td>\n",
       "      <td>50128.262500</td>\n",
       "      <td>0.000000</td>\n",
       "      <td>0.000000</td>\n",
       "      <td>0.000000</td>\n",
       "      <td>0.000000</td>\n",
       "    </tr>\n",
       "    <tr>\n",
       "      <th>50%</th>\n",
       "      <td>652.000000</td>\n",
       "      <td>37.000000</td>\n",
       "      <td>5.000000</td>\n",
       "      <td>96772.765000</td>\n",
       "      <td>1.000000</td>\n",
       "      <td>1.000000</td>\n",
       "      <td>1.000000</td>\n",
       "      <td>98772.465000</td>\n",
       "      <td>1.000000</td>\n",
       "      <td>1.000000</td>\n",
       "      <td>0.000000</td>\n",
       "      <td>0.000000</td>\n",
       "    </tr>\n",
       "    <tr>\n",
       "      <th>75%</th>\n",
       "      <td>717.000000</td>\n",
       "      <td>44.000000</td>\n",
       "      <td>7.000000</td>\n",
       "      <td>127486.577500</td>\n",
       "      <td>2.000000</td>\n",
       "      <td>1.000000</td>\n",
       "      <td>1.000000</td>\n",
       "      <td>148590.555000</td>\n",
       "      <td>1.000000</td>\n",
       "      <td>1.000000</td>\n",
       "      <td>1.000000</td>\n",
       "      <td>0.000000</td>\n",
       "    </tr>\n",
       "    <tr>\n",
       "      <th>max</th>\n",
       "      <td>850.000000</td>\n",
       "      <td>92.000000</td>\n",
       "      <td>10.000000</td>\n",
       "      <td>238387.560000</td>\n",
       "      <td>4.000000</td>\n",
       "      <td>1.000000</td>\n",
       "      <td>1.000000</td>\n",
       "      <td>199992.480000</td>\n",
       "      <td>1.000000</td>\n",
       "      <td>1.000000</td>\n",
       "      <td>1.000000</td>\n",
       "      <td>1.000000</td>\n",
       "    </tr>\n",
       "  </tbody>\n",
       "</table>\n",
       "</div>"
      ],
      "text/plain": [
       "       CreditScore          Age       Tenure        Balance  NumOfProducts  \\\n",
       "count  7000.000000  7000.000000  7000.000000    7000.000000    7000.000000   \n",
       "mean    650.764286    38.854571     5.007571   76307.841974       1.531286   \n",
       "std      96.306040    10.464699     2.887929   62379.324360       0.581069   \n",
       "min     350.000000    18.000000     0.000000       0.000000       1.000000   \n",
       "25%     584.000000    32.000000     3.000000       0.000000       1.000000   \n",
       "50%     652.000000    37.000000     5.000000   96772.765000       1.000000   \n",
       "75%     717.000000    44.000000     7.000000  127486.577500       2.000000   \n",
       "max     850.000000    92.000000    10.000000  238387.560000       4.000000   \n",
       "\n",
       "         HasCrCard  IsActiveMember  EstimatedSalary  Gender_Male  \\\n",
       "count  7000.000000     7000.000000      7000.000000  7000.000000   \n",
       "mean      0.703286        0.513286     99459.704037     0.544714   \n",
       "std       0.456842        0.499859     57532.855761     0.498032   \n",
       "min       0.000000        0.000000        11.580000     0.000000   \n",
       "25%       0.000000        0.000000     50128.262500     0.000000   \n",
       "50%       1.000000        1.000000     98772.465000     1.000000   \n",
       "75%       1.000000        1.000000    148590.555000     1.000000   \n",
       "max       1.000000        1.000000    199992.480000     1.000000   \n",
       "\n",
       "       Geography_France  Geography_Germany  Geography_Spain  \n",
       "count       7000.000000        7000.000000      7000.000000  \n",
       "mean           0.502000           0.254714         0.243286  \n",
       "std            0.500032           0.435732         0.429097  \n",
       "min            0.000000           0.000000         0.000000  \n",
       "25%            0.000000           0.000000         0.000000  \n",
       "50%            1.000000           0.000000         0.000000  \n",
       "75%            1.000000           1.000000         0.000000  \n",
       "max            1.000000           1.000000         1.000000  "
      ]
     },
     "execution_count": 26,
     "metadata": {},
     "output_type": "execute_result"
    }
   ],
   "source": [
    "# Review of dataframe before scaling data using zscore\n",
    "X1_train.describe()"
   ]
  },
  {
   "cell_type": "code",
   "execution_count": 27,
   "metadata": {},
   "outputs": [],
   "source": [
    "# Scale original data using zscore to remove weighting bias of larger non-binary variables\n",
    "X0_train1 = X0_train.apply(zscore)\n",
    "X0_valid1 = X0_valid.apply(zscore)\n",
    "X1_test = X1_test.apply(zscore)"
   ]
  },
  {
   "cell_type": "code",
   "execution_count": 28,
   "metadata": {},
   "outputs": [
    {
     "data": {
      "text/html": [
       "<div>\n",
       "<style scoped>\n",
       "    .dataframe tbody tr th:only-of-type {\n",
       "        vertical-align: middle;\n",
       "    }\n",
       "\n",
       "    .dataframe tbody tr th {\n",
       "        vertical-align: top;\n",
       "    }\n",
       "\n",
       "    .dataframe thead th {\n",
       "        text-align: right;\n",
       "    }\n",
       "</style>\n",
       "<table border=\"1\" class=\"dataframe\">\n",
       "  <thead>\n",
       "    <tr style=\"text-align: right;\">\n",
       "      <th></th>\n",
       "      <th>CreditScore</th>\n",
       "      <th>Age</th>\n",
       "      <th>Tenure</th>\n",
       "      <th>Balance</th>\n",
       "      <th>NumOfProducts</th>\n",
       "      <th>HasCrCard</th>\n",
       "      <th>IsActiveMember</th>\n",
       "      <th>EstimatedSalary</th>\n",
       "      <th>Gender_Male</th>\n",
       "      <th>Geography_France</th>\n",
       "      <th>Geography_Germany</th>\n",
       "      <th>Geography_Spain</th>\n",
       "    </tr>\n",
       "  </thead>\n",
       "  <tbody>\n",
       "    <tr>\n",
       "      <th>count</th>\n",
       "      <td>4.900000e+03</td>\n",
       "      <td>4.900000e+03</td>\n",
       "      <td>4.900000e+03</td>\n",
       "      <td>4.900000e+03</td>\n",
       "      <td>4.900000e+03</td>\n",
       "      <td>4.900000e+03</td>\n",
       "      <td>4.900000e+03</td>\n",
       "      <td>4.900000e+03</td>\n",
       "      <td>4.900000e+03</td>\n",
       "      <td>4.900000e+03</td>\n",
       "      <td>4.900000e+03</td>\n",
       "      <td>4.900000e+03</td>\n",
       "    </tr>\n",
       "    <tr>\n",
       "      <th>mean</th>\n",
       "      <td>-2.139558e-16</td>\n",
       "      <td>1.534770e-17</td>\n",
       "      <td>1.500161e-16</td>\n",
       "      <td>3.869920e-16</td>\n",
       "      <td>9.178599e-17</td>\n",
       "      <td>-6.004721e-16</td>\n",
       "      <td>-9.516197e-19</td>\n",
       "      <td>1.953200e-16</td>\n",
       "      <td>-1.385740e-16</td>\n",
       "      <td>-7.617489e-17</td>\n",
       "      <td>5.487221e-16</td>\n",
       "      <td>-3.312090e-16</td>\n",
       "    </tr>\n",
       "    <tr>\n",
       "      <th>std</th>\n",
       "      <td>1.000102e+00</td>\n",
       "      <td>1.000102e+00</td>\n",
       "      <td>1.000102e+00</td>\n",
       "      <td>1.000102e+00</td>\n",
       "      <td>1.000102e+00</td>\n",
       "      <td>1.000102e+00</td>\n",
       "      <td>1.000102e+00</td>\n",
       "      <td>1.000102e+00</td>\n",
       "      <td>1.000102e+00</td>\n",
       "      <td>1.000102e+00</td>\n",
       "      <td>1.000102e+00</td>\n",
       "      <td>1.000102e+00</td>\n",
       "    </tr>\n",
       "    <tr>\n",
       "      <th>min</th>\n",
       "      <td>-3.161306e+00</td>\n",
       "      <td>-1.992404e+00</td>\n",
       "      <td>-1.726700e+00</td>\n",
       "      <td>-1.220811e+00</td>\n",
       "      <td>-9.080418e-01</td>\n",
       "      <td>-1.537981e+00</td>\n",
       "      <td>-1.028151e+00</td>\n",
       "      <td>-1.715157e+00</td>\n",
       "      <td>-1.077262e+00</td>\n",
       "      <td>-1.003680e+00</td>\n",
       "      <td>-5.845772e-01</td>\n",
       "      <td>-5.672950e-01</td>\n",
       "    </tr>\n",
       "    <tr>\n",
       "      <th>25%</th>\n",
       "      <td>-7.009919e-01</td>\n",
       "      <td>-6.565924e-01</td>\n",
       "      <td>-1.036583e+00</td>\n",
       "      <td>-1.220811e+00</td>\n",
       "      <td>-9.080418e-01</td>\n",
       "      <td>-1.537981e+00</td>\n",
       "      <td>-1.028151e+00</td>\n",
       "      <td>-8.554009e-01</td>\n",
       "      <td>-1.077262e+00</td>\n",
       "      <td>-1.003680e+00</td>\n",
       "      <td>-5.845772e-01</td>\n",
       "      <td>-5.672950e-01</td>\n",
       "    </tr>\n",
       "    <tr>\n",
       "      <th>50%</th>\n",
       "      <td>2.139822e-02</td>\n",
       "      <td>-1.795168e-01</td>\n",
       "      <td>-1.408401e-03</td>\n",
       "      <td>3.287319e-01</td>\n",
       "      <td>-9.080418e-01</td>\n",
       "      <td>6.502032e-01</td>\n",
       "      <td>9.726196e-01</td>\n",
       "      <td>-1.515086e-02</td>\n",
       "      <td>9.282791e-01</td>\n",
       "      <td>9.963333e-01</td>\n",
       "      <td>-5.845772e-01</td>\n",
       "      <td>-5.672950e-01</td>\n",
       "    </tr>\n",
       "    <tr>\n",
       "      <th>75%</th>\n",
       "      <td>6.809718e-01</td>\n",
       "      <td>4.883892e-01</td>\n",
       "      <td>6.887081e-01</td>\n",
       "      <td>8.210186e-01</td>\n",
       "      <td>8.085496e-01</td>\n",
       "      <td>6.502032e-01</td>\n",
       "      <td>9.726196e-01</td>\n",
       "      <td>8.595105e-01</td>\n",
       "      <td>9.282791e-01</td>\n",
       "      <td>9.963333e-01</td>\n",
       "      <td>1.710638e+00</td>\n",
       "      <td>-5.672950e-01</td>\n",
       "    </tr>\n",
       "    <tr>\n",
       "      <th>max</th>\n",
       "      <td>2.073405e+00</td>\n",
       "      <td>5.068316e+00</td>\n",
       "      <td>1.723883e+00</td>\n",
       "      <td>2.588283e+00</td>\n",
       "      <td>4.241733e+00</td>\n",
       "      <td>6.502032e-01</td>\n",
       "      <td>9.726196e-01</td>\n",
       "      <td>1.746346e+00</td>\n",
       "      <td>9.282791e-01</td>\n",
       "      <td>9.963333e-01</td>\n",
       "      <td>1.710638e+00</td>\n",
       "      <td>1.762751e+00</td>\n",
       "    </tr>\n",
       "  </tbody>\n",
       "</table>\n",
       "</div>"
      ],
      "text/plain": [
       "        CreditScore           Age        Tenure       Balance  NumOfProducts  \\\n",
       "count  4.900000e+03  4.900000e+03  4.900000e+03  4.900000e+03   4.900000e+03   \n",
       "mean  -2.139558e-16  1.534770e-17  1.500161e-16  3.869920e-16   9.178599e-17   \n",
       "std    1.000102e+00  1.000102e+00  1.000102e+00  1.000102e+00   1.000102e+00   \n",
       "min   -3.161306e+00 -1.992404e+00 -1.726700e+00 -1.220811e+00  -9.080418e-01   \n",
       "25%   -7.009919e-01 -6.565924e-01 -1.036583e+00 -1.220811e+00  -9.080418e-01   \n",
       "50%    2.139822e-02 -1.795168e-01 -1.408401e-03  3.287319e-01  -9.080418e-01   \n",
       "75%    6.809718e-01  4.883892e-01  6.887081e-01  8.210186e-01   8.085496e-01   \n",
       "max    2.073405e+00  5.068316e+00  1.723883e+00  2.588283e+00   4.241733e+00   \n",
       "\n",
       "          HasCrCard  IsActiveMember  EstimatedSalary   Gender_Male  \\\n",
       "count  4.900000e+03    4.900000e+03     4.900000e+03  4.900000e+03   \n",
       "mean  -6.004721e-16   -9.516197e-19     1.953200e-16 -1.385740e-16   \n",
       "std    1.000102e+00    1.000102e+00     1.000102e+00  1.000102e+00   \n",
       "min   -1.537981e+00   -1.028151e+00    -1.715157e+00 -1.077262e+00   \n",
       "25%   -1.537981e+00   -1.028151e+00    -8.554009e-01 -1.077262e+00   \n",
       "50%    6.502032e-01    9.726196e-01    -1.515086e-02  9.282791e-01   \n",
       "75%    6.502032e-01    9.726196e-01     8.595105e-01  9.282791e-01   \n",
       "max    6.502032e-01    9.726196e-01     1.746346e+00  9.282791e-01   \n",
       "\n",
       "       Geography_France  Geography_Germany  Geography_Spain  \n",
       "count      4.900000e+03       4.900000e+03     4.900000e+03  \n",
       "mean      -7.617489e-17       5.487221e-16    -3.312090e-16  \n",
       "std        1.000102e+00       1.000102e+00     1.000102e+00  \n",
       "min       -1.003680e+00      -5.845772e-01    -5.672950e-01  \n",
       "25%       -1.003680e+00      -5.845772e-01    -5.672950e-01  \n",
       "50%        9.963333e-01      -5.845772e-01    -5.672950e-01  \n",
       "75%        9.963333e-01       1.710638e+00    -5.672950e-01  \n",
       "max        9.963333e-01       1.710638e+00     1.762751e+00  "
      ]
     },
     "execution_count": 28,
     "metadata": {},
     "output_type": "execute_result"
    }
   ],
   "source": [
    "# Review of dataframe after scaling data using zscore\n",
    "X0_train1.describe()"
   ]
  },
  {
   "cell_type": "markdown",
   "metadata": {},
   "source": [
    "## Modelling"
   ]
  },
  {
   "cell_type": "markdown",
   "metadata": {},
   "source": [
    "#### Initialize & build initial Deep Neural Network model"
   ]
  },
  {
   "cell_type": "code",
   "execution_count": 29,
   "metadata": {},
   "outputs": [],
   "source": [
    "import tensorflow as tf"
   ]
  },
  {
   "cell_type": "code",
   "execution_count": 30,
   "metadata": {},
   "outputs": [],
   "source": [
    "# Create Model, its Input Layer, Hidden Layers and Output Layers\n",
    "model = tf.keras.Sequential()\n",
    "model.add(tf.keras.Input(shape=(X0_train.shape[1],)))\n",
    "model.add(tf.keras.layers.Dense(int(X0_train.shape[1]*1.5), activation='tanh'))\n",
    "#model.add(tf.keras.layers.Dense(int(X0_train.shape[1]*1.5*(np.power(0.5, 1))), activation='tanh'))\n",
    "model.add(tf.keras.layers.Dense(int(X0_train.shape[1]*1.5*(np.power(0.5, 2))), activation='tanh'))\n",
    "model.add(tf.keras.layers.Dense(1, activation='sigmoid'))"
   ]
  },
  {
   "cell_type": "code",
   "execution_count": 31,
   "metadata": {},
   "outputs": [],
   "source": [
    "optimizer = tf.keras.optimizers.SGD(learning_rate=0.01, name='SGD') \n",
    "#optimizer = tf.keras.optimizers.RMSprop(learning_rate=0.01, name='RMSprop')"
   ]
  },
  {
   "cell_type": "markdown",
   "metadata": {},
   "source": [
    "from tensorflow.keras.metrics import Recall, Accuracy\n",
    "\n",
    "tf.keras.metrics.Recall(thresholds=None, top_k=None, class_id=None, name='recall', dtype=None)"
   ]
  },
  {
   "cell_type": "code",
   "execution_count": 32,
   "metadata": {},
   "outputs": [],
   "source": [
    "# Compile model\n",
    "model.compile(optimizer=optimizer, loss='binary_crossentropy', \n",
    "              metrics=[tf.keras.metrics.BinaryAccuracy(threshold=0.5), \n",
    "                       tf.keras.metrics.BinaryCrossentropy(),\n",
    "                       tf.keras.metrics.Recall(thresholds=0.5), \n",
    "                       tf.keras.metrics.Precision(thresholds=0.5)])"
   ]
  },
  {
   "cell_type": "code",
   "execution_count": 33,
   "metadata": {},
   "outputs": [
    {
     "name": "stdout",
     "output_type": "stream",
     "text": [
      "Model: \"sequential\"\n",
      "_________________________________________________________________\n",
      "Layer (type)                 Output Shape              Param #   \n",
      "=================================================================\n",
      "dense (Dense)                (None, 18)                234       \n",
      "_________________________________________________________________\n",
      "dense_1 (Dense)              (None, 4)                 76        \n",
      "_________________________________________________________________\n",
      "dense_2 (Dense)              (None, 1)                 5         \n",
      "=================================================================\n",
      "Total params: 315\n",
      "Trainable params: 315\n",
      "Non-trainable params: 0\n",
      "_________________________________________________________________\n"
     ]
    }
   ],
   "source": [
    "# Print model summary\n",
    "model.summary()"
   ]
  },
  {
   "cell_type": "markdown",
   "metadata": {},
   "source": [
    "#### Train the Deep Neural Network model"
   ]
  },
  {
   "cell_type": "code",
   "execution_count": 34,
   "metadata": {},
   "outputs": [
    {
     "name": "stdout",
     "output_type": "stream",
     "text": [
      "Epoch 1/100\n",
      "154/154 [==============================] - 4s 13ms/step - loss: 0.6788 - binary_accuracy: 0.5661 - binary_crossentropy: 0.6788 - recall: 0.3886 - precision: 0.2066 - val_loss: 0.5643 - val_binary_accuracy: 0.7505 - val_binary_crossentropy: 0.5643 - val_recall: 0.1912 - val_precision: 0.3242\n",
      "Epoch 2/100\n",
      "154/154 [==============================] - 0s 3ms/step - loss: 0.5376 - binary_accuracy: 0.7710 - binary_crossentropy: 0.5376 - recall: 0.1713 - precision: 0.3650 - val_loss: 0.5005 - val_binary_accuracy: 0.7890 - val_binary_crossentropy: 0.5005 - val_recall: 0.0737 - val_precision: 0.4384\n",
      "Epoch 3/100\n",
      "154/154 [==============================] - 0s 2ms/step - loss: 0.4798 - binary_accuracy: 0.8008 - binary_crossentropy: 0.4798 - recall: 0.0737 - precision: 0.5373 - val_loss: 0.4725 - val_binary_accuracy: 0.7990 - val_binary_crossentropy: 0.4725 - val_recall: 0.0760 - val_precision: 0.6111\n",
      "Epoch 4/100\n",
      "154/154 [==============================] - 0s 3ms/step - loss: 0.4694 - binary_accuracy: 0.7849 - binary_crossentropy: 0.4694 - recall: 0.0559 - precision: 0.4474 - val_loss: 0.4582 - val_binary_accuracy: 0.8005 - val_binary_crossentropy: 0.4582 - val_recall: 0.0876 - val_precision: 0.6230\n",
      "Epoch 5/100\n",
      "154/154 [==============================] - 0s 2ms/step - loss: 0.4400 - binary_accuracy: 0.8033 - binary_crossentropy: 0.4400 - recall: 0.0809 - precision: 0.5357 - val_loss: 0.4502 - val_binary_accuracy: 0.8038 - val_binary_crossentropy: 0.4502 - val_recall: 0.1175 - val_precision: 0.6375\n",
      "Epoch 6/100\n",
      "154/154 [==============================] - 0s 2ms/step - loss: 0.4505 - binary_accuracy: 0.7912 - binary_crossentropy: 0.4505 - recall: 0.1130 - precision: 0.5639 - val_loss: 0.4452 - val_binary_accuracy: 0.8076 - val_binary_crossentropy: 0.4452 - val_recall: 0.1544 - val_precision: 0.6442\n",
      "Epoch 7/100\n",
      "154/154 [==============================] - 0s 2ms/step - loss: 0.4467 - binary_accuracy: 0.7889 - binary_crossentropy: 0.4467 - recall: 0.1233 - precision: 0.5621 - val_loss: 0.4424 - val_binary_accuracy: 0.8090 - val_binary_crossentropy: 0.4424 - val_recall: 0.1797 - val_precision: 0.6341\n",
      "Epoch 8/100\n",
      "154/154 [==============================] - 0s 2ms/step - loss: 0.4074 - binary_accuracy: 0.8234 - binary_crossentropy: 0.4074 - recall: 0.2024 - precision: 0.5924 - val_loss: 0.4406 - val_binary_accuracy: 0.8110 - val_binary_crossentropy: 0.4406 - val_recall: 0.2051 - val_precision: 0.6312\n",
      "Epoch 9/100\n",
      "154/154 [==============================] - 0s 2ms/step - loss: 0.4192 - binary_accuracy: 0.8156 - binary_crossentropy: 0.4192 - recall: 0.2133 - precision: 0.6273 - val_loss: 0.4392 - val_binary_accuracy: 0.8105 - val_binary_crossentropy: 0.4392 - val_recall: 0.2212 - val_precision: 0.6154\n",
      "Epoch 10/100\n",
      "154/154 [==============================] - 0s 2ms/step - loss: 0.4211 - binary_accuracy: 0.8088 - binary_crossentropy: 0.4211 - recall: 0.2217 - precision: 0.6132 - val_loss: 0.4384 - val_binary_accuracy: 0.8086 - val_binary_crossentropy: 0.4384 - val_recall: 0.2327 - val_precision: 0.5941\n",
      "Epoch 11/100\n",
      "154/154 [==============================] - 0s 2ms/step - loss: 0.4173 - binary_accuracy: 0.8171 - binary_crossentropy: 0.4173 - recall: 0.2473 - precision: 0.6444 - val_loss: 0.4378 - val_binary_accuracy: 0.8090 - val_binary_crossentropy: 0.4378 - val_recall: 0.2396 - val_precision: 0.5943\n",
      "Epoch 12/100\n",
      "154/154 [==============================] - 0s 2ms/step - loss: 0.4102 - binary_accuracy: 0.8148 - binary_crossentropy: 0.4102 - recall: 0.2478 - precision: 0.6054 - val_loss: 0.4372 - val_binary_accuracy: 0.8114 - val_binary_crossentropy: 0.4372 - val_recall: 0.2535 - val_precision: 0.6044\n",
      "Epoch 13/100\n",
      "154/154 [==============================] - 0s 2ms/step - loss: 0.4090 - binary_accuracy: 0.8077 - binary_crossentropy: 0.4090 - recall: 0.2337 - precision: 0.5451 - val_loss: 0.4368 - val_binary_accuracy: 0.8105 - val_binary_crossentropy: 0.4368 - val_recall: 0.2604 - val_precision: 0.5947\n",
      "Epoch 14/100\n",
      "154/154 [==============================] - 0s 2ms/step - loss: 0.4231 - binary_accuracy: 0.8048 - binary_crossentropy: 0.4231 - recall: 0.2460 - precision: 0.5784 - val_loss: 0.4363 - val_binary_accuracy: 0.8095 - val_binary_crossentropy: 0.4363 - val_recall: 0.2581 - val_precision: 0.5895\n",
      "Epoch 15/100\n",
      "154/154 [==============================] - 0s 2ms/step - loss: 0.3987 - binary_accuracy: 0.8215 - binary_crossentropy: 0.3987 - recall: 0.2605 - precision: 0.5813 - val_loss: 0.4357 - val_binary_accuracy: 0.8090 - val_binary_crossentropy: 0.4357 - val_recall: 0.2673 - val_precision: 0.5829\n",
      "Epoch 16/100\n",
      "154/154 [==============================] - 0s 2ms/step - loss: 0.4128 - binary_accuracy: 0.8099 - binary_crossentropy: 0.4128 - recall: 0.2660 - precision: 0.5649 - val_loss: 0.4352 - val_binary_accuracy: 0.8095 - val_binary_crossentropy: 0.4352 - val_recall: 0.2696 - val_precision: 0.5850\n",
      "Epoch 17/100\n",
      "154/154 [==============================] - 0s 2ms/step - loss: 0.3960 - binary_accuracy: 0.8204 - binary_crossentropy: 0.3960 - recall: 0.2515 - precision: 0.5491 - val_loss: 0.4349 - val_binary_accuracy: 0.8062 - val_binary_crossentropy: 0.4349 - val_recall: 0.2765 - val_precision: 0.5634\n",
      "Epoch 18/100\n",
      "154/154 [==============================] - 0s 2ms/step - loss: 0.4019 - binary_accuracy: 0.8206 - binary_crossentropy: 0.4019 - recall: 0.2954 - precision: 0.5969 - val_loss: 0.4342 - val_binary_accuracy: 0.8114 - val_binary_crossentropy: 0.4342 - val_recall: 0.2811 - val_precision: 0.5922\n",
      "Epoch 19/100\n",
      "154/154 [==============================] - 0s 2ms/step - loss: 0.3994 - binary_accuracy: 0.8174 - binary_crossentropy: 0.3994 - recall: 0.2706 - precision: 0.5672 - val_loss: 0.4337 - val_binary_accuracy: 0.8138 - val_binary_crossentropy: 0.4337 - val_recall: 0.2788 - val_precision: 0.6080\n",
      "Epoch 20/100\n",
      "154/154 [==============================] - 0s 2ms/step - loss: 0.4147 - binary_accuracy: 0.8093 - binary_crossentropy: 0.4147 - recall: 0.2530 - precision: 0.5728 - val_loss: 0.4332 - val_binary_accuracy: 0.8148 - val_binary_crossentropy: 0.4332 - val_recall: 0.2834 - val_precision: 0.6119\n",
      "Epoch 21/100\n",
      "154/154 [==============================] - 0s 3ms/step - loss: 0.4049 - binary_accuracy: 0.8200 - binary_crossentropy: 0.4049 - recall: 0.2773 - precision: 0.6225 - val_loss: 0.4326 - val_binary_accuracy: 0.8148 - val_binary_crossentropy: 0.4326 - val_recall: 0.2880 - val_precision: 0.6098\n",
      "Epoch 22/100\n",
      "154/154 [==============================] - 0s 3ms/step - loss: 0.4031 - binary_accuracy: 0.8171 - binary_crossentropy: 0.4031 - recall: 0.2647 - precision: 0.5776 - val_loss: 0.4320 - val_binary_accuracy: 0.8157 - val_binary_crossentropy: 0.4320 - val_recall: 0.2880 - val_precision: 0.6158\n",
      "Epoch 23/100\n",
      "154/154 [==============================] - 0s 2ms/step - loss: 0.4051 - binary_accuracy: 0.8213 - binary_crossentropy: 0.4051 - recall: 0.2604 - precision: 0.6092 - val_loss: 0.4316 - val_binary_accuracy: 0.8171 - val_binary_crossentropy: 0.4316 - val_recall: 0.2834 - val_precision: 0.6276\n",
      "Epoch 24/100\n",
      "154/154 [==============================] - 0s 3ms/step - loss: 0.4069 - binary_accuracy: 0.8182 - binary_crossentropy: 0.4069 - recall: 0.2831 - precision: 0.6004 - val_loss: 0.4312 - val_binary_accuracy: 0.8186 - val_binary_crossentropy: 0.4312 - val_recall: 0.2880 - val_precision: 0.6345\n",
      "Epoch 25/100\n",
      "154/154 [==============================] - 0s 3ms/step - loss: 0.3986 - binary_accuracy: 0.8195 - binary_crossentropy: 0.3986 - recall: 0.2890 - precision: 0.5758 - val_loss: 0.4307 - val_binary_accuracy: 0.8176 - val_binary_crossentropy: 0.4307 - val_recall: 0.2811 - val_precision: 0.6321\n",
      "Epoch 26/100\n",
      "154/154 [==============================] - 0s 2ms/step - loss: 0.4023 - binary_accuracy: 0.8305 - binary_crossentropy: 0.4023 - recall: 0.2917 - precision: 0.6559 - val_loss: 0.4303 - val_binary_accuracy: 0.8181 - val_binary_crossentropy: 0.4303 - val_recall: 0.2834 - val_precision: 0.6340\n",
      "Epoch 27/100\n",
      "154/154 [==============================] - 0s 3ms/step - loss: 0.3980 - binary_accuracy: 0.8294 - binary_crossentropy: 0.3980 - recall: 0.3036 - precision: 0.6762 - val_loss: 0.4298 - val_binary_accuracy: 0.8171 - val_binary_crossentropy: 0.4298 - val_recall: 0.2811 - val_precision: 0.6289\n"
     ]
    },
    {
     "name": "stdout",
     "output_type": "stream",
     "text": [
      "Epoch 28/100\n",
      "154/154 [==============================] - 0s 2ms/step - loss: 0.3991 - binary_accuracy: 0.8237 - binary_crossentropy: 0.3991 - recall: 0.2990 - precision: 0.6330 - val_loss: 0.4293 - val_binary_accuracy: 0.8148 - val_binary_crossentropy: 0.4293 - val_recall: 0.2857 - val_precision: 0.6108\n",
      "Epoch 29/100\n",
      "154/154 [==============================] - 0s 2ms/step - loss: 0.3990 - binary_accuracy: 0.8265 - binary_crossentropy: 0.3990 - recall: 0.2925 - precision: 0.6550 - val_loss: 0.4285 - val_binary_accuracy: 0.8167 - val_binary_crossentropy: 0.4285 - val_recall: 0.2903 - val_precision: 0.6207\n",
      "Epoch 30/100\n",
      "154/154 [==============================] - 0s 3ms/step - loss: 0.3973 - binary_accuracy: 0.8305 - binary_crossentropy: 0.3973 - recall: 0.3257 - precision: 0.6553 - val_loss: 0.4280 - val_binary_accuracy: 0.8162 - val_binary_crossentropy: 0.4280 - val_recall: 0.2834 - val_precision: 0.6212\n",
      "Epoch 31/100\n",
      "154/154 [==============================] - 0s 2ms/step - loss: 0.3880 - binary_accuracy: 0.8326 - binary_crossentropy: 0.3880 - recall: 0.3188 - precision: 0.6706 - val_loss: 0.4274 - val_binary_accuracy: 0.8148 - val_binary_crossentropy: 0.4274 - val_recall: 0.2834 - val_precision: 0.6119\n",
      "Epoch 32/100\n",
      "154/154 [==============================] - 0s 3ms/step - loss: 0.3942 - binary_accuracy: 0.8288 - binary_crossentropy: 0.3942 - recall: 0.2904 - precision: 0.6597 - val_loss: 0.4270 - val_binary_accuracy: 0.8148 - val_binary_crossentropy: 0.4270 - val_recall: 0.2834 - val_precision: 0.6119\n",
      "Epoch 33/100\n",
      "154/154 [==============================] - 0s 3ms/step - loss: 0.4005 - binary_accuracy: 0.8196 - binary_crossentropy: 0.4005 - recall: 0.3185 - precision: 0.6536 - val_loss: 0.4266 - val_binary_accuracy: 0.8143 - val_binary_crossentropy: 0.4266 - val_recall: 0.2788 - val_precision: 0.6111\n",
      "Epoch 34/100\n",
      "154/154 [==============================] - 0s 3ms/step - loss: 0.3999 - binary_accuracy: 0.8254 - binary_crossentropy: 0.3999 - recall: 0.2990 - precision: 0.6455 - val_loss: 0.4259 - val_binary_accuracy: 0.8157 - val_binary_crossentropy: 0.4259 - val_recall: 0.2788 - val_precision: 0.6205\n",
      "Epoch 35/100\n",
      "154/154 [==============================] - 0s 2ms/step - loss: 0.3970 - binary_accuracy: 0.8259 - binary_crossentropy: 0.3970 - recall: 0.3072 - precision: 0.6841 - val_loss: 0.4253 - val_binary_accuracy: 0.8143 - val_binary_crossentropy: 0.4253 - val_recall: 0.2719 - val_precision: 0.6146\n",
      "Epoch 36/100\n",
      "154/154 [==============================] - 0s 2ms/step - loss: 0.3916 - binary_accuracy: 0.8278 - binary_crossentropy: 0.3916 - recall: 0.3207 - precision: 0.6441 - val_loss: 0.4245 - val_binary_accuracy: 0.8143 - val_binary_crossentropy: 0.4245 - val_recall: 0.2742 - val_precision: 0.6134\n",
      "Epoch 37/100\n",
      "154/154 [==============================] - 0s 2ms/step - loss: 0.3883 - binary_accuracy: 0.8321 - binary_crossentropy: 0.3883 - recall: 0.2870 - precision: 0.6566 - val_loss: 0.4236 - val_binary_accuracy: 0.8148 - val_binary_crossentropy: 0.4236 - val_recall: 0.2811 - val_precision: 0.6131\n",
      "Epoch 38/100\n",
      "154/154 [==============================] - 0s 2ms/step - loss: 0.4087 - binary_accuracy: 0.8203 - binary_crossentropy: 0.4087 - recall: 0.3070 - precision: 0.6550 - val_loss: 0.4232 - val_binary_accuracy: 0.8167 - val_binary_crossentropy: 0.4232 - val_recall: 0.2788 - val_precision: 0.6269\n",
      "Epoch 39/100\n",
      "154/154 [==============================] - 1s 4ms/step - loss: 0.3964 - binary_accuracy: 0.8299 - binary_crossentropy: 0.3964 - recall: 0.2895 - precision: 0.6813 - val_loss: 0.4224 - val_binary_accuracy: 0.8157 - val_binary_crossentropy: 0.4224 - val_recall: 0.2811 - val_precision: 0.6193\n",
      "Epoch 40/100\n",
      "154/154 [==============================] - 1s 3ms/step - loss: 0.3960 - binary_accuracy: 0.8311 - binary_crossentropy: 0.3960 - recall: 0.3153 - precision: 0.7032 - val_loss: 0.4215 - val_binary_accuracy: 0.8148 - val_binary_crossentropy: 0.4215 - val_recall: 0.2811 - val_precision: 0.6131\n",
      "Epoch 41/100\n",
      "154/154 [==============================] - 0s 3ms/step - loss: 0.3894 - binary_accuracy: 0.8317 - binary_crossentropy: 0.3894 - recall: 0.3050 - precision: 0.6542 - val_loss: 0.4209 - val_binary_accuracy: 0.8143 - val_binary_crossentropy: 0.4209 - val_recall: 0.2811 - val_precision: 0.6100\n",
      "Epoch 42/100\n",
      "154/154 [==============================] - 0s 2ms/step - loss: 0.3773 - binary_accuracy: 0.8398 - binary_crossentropy: 0.3773 - recall: 0.3359 - precision: 0.6953 - val_loss: 0.4201 - val_binary_accuracy: 0.8124 - val_binary_crossentropy: 0.4201 - val_recall: 0.2765 - val_precision: 0.6000\n",
      "Epoch 43/100\n",
      "154/154 [==============================] - 0s 2ms/step - loss: 0.3705 - binary_accuracy: 0.8415 - binary_crossentropy: 0.3705 - recall: 0.3127 - precision: 0.6871 - val_loss: 0.4193 - val_binary_accuracy: 0.8119 - val_binary_crossentropy: 0.4193 - val_recall: 0.2765 - val_precision: 0.5970\n",
      "Epoch 44/100\n",
      "154/154 [==============================] - 0s 3ms/step - loss: 0.3857 - binary_accuracy: 0.8313 - binary_crossentropy: 0.3857 - recall: 0.3460 - precision: 0.6899 - val_loss: 0.4183 - val_binary_accuracy: 0.8143 - val_binary_crossentropy: 0.4183 - val_recall: 0.2742 - val_precision: 0.6134\n",
      "Epoch 45/100\n",
      "154/154 [==============================] - 0s 3ms/step - loss: 0.3888 - binary_accuracy: 0.8317 - binary_crossentropy: 0.3888 - recall: 0.3128 - precision: 0.6925 - val_loss: 0.4176 - val_binary_accuracy: 0.8152 - val_binary_crossentropy: 0.4176 - val_recall: 0.2742 - val_precision: 0.6198\n",
      "Epoch 46/100\n",
      "154/154 [==============================] - 0s 3ms/step - loss: 0.3824 - binary_accuracy: 0.8368 - binary_crossentropy: 0.3824 - recall: 0.3168 - precision: 0.7021 - val_loss: 0.4167 - val_binary_accuracy: 0.8129 - val_binary_crossentropy: 0.4167 - val_recall: 0.2742 - val_precision: 0.6041\n",
      "Epoch 47/100\n",
      "154/154 [==============================] - 0s 3ms/step - loss: 0.3824 - binary_accuracy: 0.8382 - binary_crossentropy: 0.3824 - recall: 0.3208 - precision: 0.7162 - val_loss: 0.4158 - val_binary_accuracy: 0.8138 - val_binary_crossentropy: 0.4158 - val_recall: 0.2742 - val_precision: 0.6103\n",
      "Epoch 48/100\n",
      "154/154 [==============================] - 0s 3ms/step - loss: 0.3718 - binary_accuracy: 0.8406 - binary_crossentropy: 0.3718 - recall: 0.3531 - precision: 0.7410 - val_loss: 0.4148 - val_binary_accuracy: 0.8148 - val_binary_crossentropy: 0.4148 - val_recall: 0.2673 - val_precision: 0.6203\n",
      "Epoch 49/100\n",
      "154/154 [==============================] - 0s 2ms/step - loss: 0.3792 - binary_accuracy: 0.8325 - binary_crossentropy: 0.3792 - recall: 0.3259 - precision: 0.7062 - val_loss: 0.4137 - val_binary_accuracy: 0.8167 - val_binary_crossentropy: 0.4137 - val_recall: 0.2696 - val_precision: 0.6324\n",
      "Epoch 50/100\n",
      "154/154 [==============================] - 0s 2ms/step - loss: 0.3781 - binary_accuracy: 0.8336 - binary_crossentropy: 0.3781 - recall: 0.3173 - precision: 0.7011 - val_loss: 0.4125 - val_binary_accuracy: 0.8162 - val_binary_crossentropy: 0.4125 - val_recall: 0.2673 - val_precision: 0.6304\n",
      "Epoch 51/100\n",
      "154/154 [==============================] - 0s 2ms/step - loss: 0.3790 - binary_accuracy: 0.8372 - binary_crossentropy: 0.3790 - recall: 0.3300 - precision: 0.7231 - val_loss: 0.4118 - val_binary_accuracy: 0.8157 - val_binary_crossentropy: 0.4118 - val_recall: 0.2742 - val_precision: 0.6230\n",
      "Epoch 52/100\n",
      "154/154 [==============================] - 0s 3ms/step - loss: 0.3796 - binary_accuracy: 0.8328 - binary_crossentropy: 0.3796 - recall: 0.3430 - precision: 0.6766 - val_loss: 0.4110 - val_binary_accuracy: 0.8157 - val_binary_crossentropy: 0.4110 - val_recall: 0.2788 - val_precision: 0.6205\n",
      "Epoch 53/100\n",
      "154/154 [==============================] - 0s 3ms/step - loss: 0.3653 - binary_accuracy: 0.8447 - binary_crossentropy: 0.3653 - recall: 0.3463 - precision: 0.7009 - val_loss: 0.4102 - val_binary_accuracy: 0.8143 - val_binary_crossentropy: 0.4102 - val_recall: 0.2811 - val_precision: 0.6100\n",
      "Epoch 54/100\n",
      "154/154 [==============================] - 0s 2ms/step - loss: 0.3709 - binary_accuracy: 0.8345 - binary_crossentropy: 0.3709 - recall: 0.3159 - precision: 0.6899 - val_loss: 0.4090 - val_binary_accuracy: 0.8162 - val_binary_crossentropy: 0.4090 - val_recall: 0.2811 - val_precision: 0.6224\n"
     ]
    },
    {
     "name": "stdout",
     "output_type": "stream",
     "text": [
      "Epoch 55/100\n",
      "154/154 [==============================] - 0s 2ms/step - loss: 0.3757 - binary_accuracy: 0.8380 - binary_crossentropy: 0.3757 - recall: 0.3307 - precision: 0.7043 - val_loss: 0.4075 - val_binary_accuracy: 0.8162 - val_binary_crossentropy: 0.4075 - val_recall: 0.2834 - val_precision: 0.6212\n",
      "Epoch 56/100\n",
      "154/154 [==============================] - 0s 2ms/step - loss: 0.3778 - binary_accuracy: 0.8312 - binary_crossentropy: 0.3778 - recall: 0.3163 - precision: 0.6614 - val_loss: 0.4065 - val_binary_accuracy: 0.8157 - val_binary_crossentropy: 0.4065 - val_recall: 0.2811 - val_precision: 0.6193\n",
      "Epoch 57/100\n",
      "154/154 [==============================] - 0s 2ms/step - loss: 0.3728 - binary_accuracy: 0.8323 - binary_crossentropy: 0.3728 - recall: 0.3349 - precision: 0.6840 - val_loss: 0.4054 - val_binary_accuracy: 0.8157 - val_binary_crossentropy: 0.4054 - val_recall: 0.2765 - val_precision: 0.6218\n",
      "Epoch 58/100\n",
      "154/154 [==============================] - 0s 2ms/step - loss: 0.3684 - binary_accuracy: 0.8364 - binary_crossentropy: 0.3684 - recall: 0.3189 - precision: 0.6839 - val_loss: 0.4046 - val_binary_accuracy: 0.8162 - val_binary_crossentropy: 0.4046 - val_recall: 0.2857 - val_precision: 0.6200\n",
      "Epoch 59/100\n",
      "154/154 [==============================] - 1s 3ms/step - loss: 0.3717 - binary_accuracy: 0.8361 - binary_crossentropy: 0.3717 - recall: 0.3471 - precision: 0.7049 - val_loss: 0.4035 - val_binary_accuracy: 0.8162 - val_binary_crossentropy: 0.4035 - val_recall: 0.2834 - val_precision: 0.6212\n",
      "Epoch 60/100\n",
      "154/154 [==============================] - 0s 2ms/step - loss: 0.3726 - binary_accuracy: 0.8313 - binary_crossentropy: 0.3726 - recall: 0.3401 - precision: 0.7044 - val_loss: 0.4022 - val_binary_accuracy: 0.8167 - val_binary_crossentropy: 0.4022 - val_recall: 0.2788 - val_precision: 0.6269\n",
      "Epoch 61/100\n",
      "154/154 [==============================] - 0s 3ms/step - loss: 0.3671 - binary_accuracy: 0.8421 - binary_crossentropy: 0.3671 - recall: 0.3419 - precision: 0.7061 - val_loss: 0.4013 - val_binary_accuracy: 0.8171 - val_binary_crossentropy: 0.4013 - val_recall: 0.2903 - val_precision: 0.6238\n",
      "Epoch 62/100\n",
      "154/154 [==============================] - 0s 2ms/step - loss: 0.3658 - binary_accuracy: 0.8344 - binary_crossentropy: 0.3658 - recall: 0.3531 - precision: 0.6885 - val_loss: 0.3998 - val_binary_accuracy: 0.8186 - val_binary_crossentropy: 0.3998 - val_recall: 0.2834 - val_precision: 0.6373\n",
      "Epoch 63/100\n",
      "154/154 [==============================] - 0s 2ms/step - loss: 0.3557 - binary_accuracy: 0.8419 - binary_crossentropy: 0.3557 - recall: 0.3524 - precision: 0.7266 - val_loss: 0.3991 - val_binary_accuracy: 0.8200 - val_binary_crossentropy: 0.3991 - val_recall: 0.2857 - val_precision: 0.6458\n",
      "Epoch 64/100\n",
      "154/154 [==============================] - 0s 2ms/step - loss: 0.3643 - binary_accuracy: 0.8396 - binary_crossentropy: 0.3643 - recall: 0.3569 - precision: 0.7474 - val_loss: 0.3981 - val_binary_accuracy: 0.8200 - val_binary_crossentropy: 0.3981 - val_recall: 0.2926 - val_precision: 0.6414\n",
      "Epoch 65/100\n",
      "154/154 [==============================] - 0s 2ms/step - loss: 0.3548 - binary_accuracy: 0.8473 - binary_crossentropy: 0.3548 - recall: 0.3729 - precision: 0.7131 - val_loss: 0.3968 - val_binary_accuracy: 0.8195 - val_binary_crossentropy: 0.3968 - val_recall: 0.2949 - val_precision: 0.6368\n",
      "Epoch 66/100\n",
      "154/154 [==============================] - 0s 2ms/step - loss: 0.3506 - binary_accuracy: 0.8479 - binary_crossentropy: 0.3506 - recall: 0.3663 - precision: 0.7053 - val_loss: 0.3962 - val_binary_accuracy: 0.8205 - val_binary_crossentropy: 0.3962 - val_recall: 0.3088 - val_precision: 0.6351\n",
      "Epoch 67/100\n",
      "154/154 [==============================] - 0s 2ms/step - loss: 0.3566 - binary_accuracy: 0.8454 - binary_crossentropy: 0.3566 - recall: 0.3696 - precision: 0.7218 - val_loss: 0.3954 - val_binary_accuracy: 0.8210 - val_binary_crossentropy: 0.3954 - val_recall: 0.3111 - val_precision: 0.6368\n",
      "Epoch 68/100\n",
      "154/154 [==============================] - 0s 2ms/step - loss: 0.3639 - binary_accuracy: 0.8436 - binary_crossentropy: 0.3639 - recall: 0.3810 - precision: 0.7245 - val_loss: 0.3942 - val_binary_accuracy: 0.8233 - val_binary_crossentropy: 0.3942 - val_recall: 0.3157 - val_precision: 0.6493\n",
      "Epoch 69/100\n",
      "154/154 [==============================] - 0s 2ms/step - loss: 0.3392 - binary_accuracy: 0.8571 - binary_crossentropy: 0.3392 - recall: 0.4221 - precision: 0.7127 - val_loss: 0.3940 - val_binary_accuracy: 0.8243 - val_binary_crossentropy: 0.3940 - val_recall: 0.3318 - val_precision: 0.6457\n",
      "Epoch 70/100\n",
      "154/154 [==============================] - 0s 3ms/step - loss: 0.3504 - binary_accuracy: 0.8554 - binary_crossentropy: 0.3504 - recall: 0.4207 - precision: 0.7377 - val_loss: 0.3929 - val_binary_accuracy: 0.8252 - val_binary_crossentropy: 0.3929 - val_recall: 0.3456 - val_precision: 0.6438\n",
      "Epoch 71/100\n",
      "154/154 [==============================] - 0s 3ms/step - loss: 0.3533 - binary_accuracy: 0.8545 - binary_crossentropy: 0.3533 - recall: 0.4294 - precision: 0.7330 - val_loss: 0.3910 - val_binary_accuracy: 0.8290 - val_binary_crossentropy: 0.3910 - val_recall: 0.3433 - val_precision: 0.6682\n",
      "Epoch 72/100\n",
      "154/154 [==============================] - 0s 2ms/step - loss: 0.3470 - binary_accuracy: 0.8554 - binary_crossentropy: 0.3470 - recall: 0.4265 - precision: 0.7351 - val_loss: 0.3896 - val_binary_accuracy: 0.8310 - val_binary_crossentropy: 0.3896 - val_recall: 0.3502 - val_precision: 0.6756\n",
      "Epoch 73/100\n",
      "154/154 [==============================] - 0s 2ms/step - loss: 0.3564 - binary_accuracy: 0.8539 - binary_crossentropy: 0.3564 - recall: 0.4304 - precision: 0.7469 - val_loss: 0.3890 - val_binary_accuracy: 0.8295 - val_binary_crossentropy: 0.3890 - val_recall: 0.3571 - val_precision: 0.6624\n",
      "Epoch 74/100\n",
      "154/154 [==============================] - 0s 2ms/step - loss: 0.3397 - binary_accuracy: 0.8598 - binary_crossentropy: 0.3397 - recall: 0.4504 - precision: 0.7468 - val_loss: 0.3885 - val_binary_accuracy: 0.8319 - val_binary_crossentropy: 0.3885 - val_recall: 0.3618 - val_precision: 0.6738\n",
      "Epoch 75/100\n",
      "154/154 [==============================] - 0s 2ms/step - loss: 0.3571 - binary_accuracy: 0.8523 - binary_crossentropy: 0.3571 - recall: 0.4244 - precision: 0.7278 - val_loss: 0.3877 - val_binary_accuracy: 0.8329 - val_binary_crossentropy: 0.3877 - val_recall: 0.3756 - val_precision: 0.6708\n",
      "Epoch 76/100\n",
      "154/154 [==============================] - 0s 2ms/step - loss: 0.3489 - binary_accuracy: 0.8507 - binary_crossentropy: 0.3489 - recall: 0.3959 - precision: 0.6848 - val_loss: 0.3877 - val_binary_accuracy: 0.8333 - val_binary_crossentropy: 0.3877 - val_recall: 0.3848 - val_precision: 0.6680\n",
      "Epoch 77/100\n",
      "154/154 [==============================] - 0s 2ms/step - loss: 0.3520 - binary_accuracy: 0.8543 - binary_crossentropy: 0.3520 - recall: 0.4423 - precision: 0.7263 - val_loss: 0.3863 - val_binary_accuracy: 0.8343 - val_binary_crossentropy: 0.3863 - val_recall: 0.3802 - val_precision: 0.6762\n",
      "Epoch 78/100\n",
      "154/154 [==============================] - 0s 2ms/step - loss: 0.3441 - binary_accuracy: 0.8620 - binary_crossentropy: 0.3441 - recall: 0.4432 - precision: 0.7578 - val_loss: 0.3863 - val_binary_accuracy: 0.8333 - val_binary_crossentropy: 0.3863 - val_recall: 0.3825 - val_precision: 0.6694\n",
      "Epoch 79/100\n",
      "154/154 [==============================] - 0s 2ms/step - loss: 0.3516 - binary_accuracy: 0.8531 - binary_crossentropy: 0.3516 - recall: 0.4354 - precision: 0.7124 - val_loss: 0.3856 - val_binary_accuracy: 0.8324 - val_binary_crossentropy: 0.3856 - val_recall: 0.3871 - val_precision: 0.6614\n",
      "Epoch 80/100\n",
      "154/154 [==============================] - 0s 2ms/step - loss: 0.3399 - binary_accuracy: 0.8629 - binary_crossentropy: 0.3399 - recall: 0.4616 - precision: 0.7542 - val_loss: 0.3845 - val_binary_accuracy: 0.8357 - val_binary_crossentropy: 0.3845 - val_recall: 0.3917 - val_precision: 0.6773\n",
      "Epoch 81/100\n",
      "154/154 [==============================] - 0s 2ms/step - loss: 0.3472 - binary_accuracy: 0.8578 - binary_crossentropy: 0.3472 - recall: 0.4567 - precision: 0.7392 - val_loss: 0.3836 - val_binary_accuracy: 0.8357 - val_binary_crossentropy: 0.3836 - val_recall: 0.3825 - val_precision: 0.6831\n"
     ]
    },
    {
     "name": "stdout",
     "output_type": "stream",
     "text": [
      "Epoch 82/100\n",
      "154/154 [==============================] - 0s 2ms/step - loss: 0.3451 - binary_accuracy: 0.8607 - binary_crossentropy: 0.3451 - recall: 0.4503 - precision: 0.7679 - val_loss: 0.3828 - val_binary_accuracy: 0.8405 - val_binary_crossentropy: 0.3828 - val_recall: 0.3917 - val_precision: 0.7054\n",
      "Epoch 83/100\n",
      "154/154 [==============================] - 0s 2ms/step - loss: 0.3255 - binary_accuracy: 0.8734 - binary_crossentropy: 0.3255 - recall: 0.4541 - precision: 0.7870 - val_loss: 0.3820 - val_binary_accuracy: 0.8410 - val_binary_crossentropy: 0.3820 - val_recall: 0.4009 - val_precision: 0.7016\n",
      "Epoch 84/100\n",
      "154/154 [==============================] - 0s 2ms/step - loss: 0.3377 - binary_accuracy: 0.8661 - binary_crossentropy: 0.3377 - recall: 0.4821 - precision: 0.7845 - val_loss: 0.3820 - val_binary_accuracy: 0.8405 - val_binary_crossentropy: 0.3820 - val_recall: 0.4009 - val_precision: 0.6988\n",
      "Epoch 85/100\n",
      "154/154 [==============================] - 0s 2ms/step - loss: 0.3420 - binary_accuracy: 0.8642 - binary_crossentropy: 0.3420 - recall: 0.4709 - precision: 0.7589 - val_loss: 0.3811 - val_binary_accuracy: 0.8381 - val_binary_crossentropy: 0.3811 - val_recall: 0.3986 - val_precision: 0.6865\n",
      "Epoch 86/100\n",
      "154/154 [==============================] - 0s 2ms/step - loss: 0.3573 - binary_accuracy: 0.8585 - binary_crossentropy: 0.3573 - recall: 0.4768 - precision: 0.7702 - val_loss: 0.3811 - val_binary_accuracy: 0.8405 - val_binary_crossentropy: 0.3811 - val_recall: 0.4009 - val_precision: 0.6988\n",
      "Epoch 87/100\n",
      "154/154 [==============================] - 0s 3ms/step - loss: 0.3334 - binary_accuracy: 0.8644 - binary_crossentropy: 0.3334 - recall: 0.4681 - precision: 0.7460 - val_loss: 0.3814 - val_binary_accuracy: 0.8405 - val_binary_crossentropy: 0.3814 - val_recall: 0.4171 - val_precision: 0.6882\n",
      "Epoch 88/100\n",
      "154/154 [==============================] - 0s 3ms/step - loss: 0.3551 - binary_accuracy: 0.8560 - binary_crossentropy: 0.3551 - recall: 0.4636 - precision: 0.7216 - val_loss: 0.3798 - val_binary_accuracy: 0.8419 - val_binary_crossentropy: 0.3798 - val_recall: 0.4171 - val_precision: 0.6962\n",
      "Epoch 89/100\n",
      "154/154 [==============================] - 0s 3ms/step - loss: 0.3360 - binary_accuracy: 0.8626 - binary_crossentropy: 0.3360 - recall: 0.4779 - precision: 0.7479 - val_loss: 0.3796 - val_binary_accuracy: 0.8443 - val_binary_crossentropy: 0.3796 - val_recall: 0.4194 - val_precision: 0.7082\n",
      "Epoch 90/100\n",
      "154/154 [==============================] - 0s 3ms/step - loss: 0.3492 - binary_accuracy: 0.8554 - binary_crossentropy: 0.3492 - recall: 0.4603 - precision: 0.7520 - val_loss: 0.3793 - val_binary_accuracy: 0.8395 - val_binary_crossentropy: 0.3793 - val_recall: 0.4124 - val_precision: 0.6858\n",
      "Epoch 91/100\n",
      "154/154 [==============================] - 0s 2ms/step - loss: 0.3300 - binary_accuracy: 0.8629 - binary_crossentropy: 0.3300 - recall: 0.4743 - precision: 0.7268 - val_loss: 0.3786 - val_binary_accuracy: 0.8419 - val_binary_crossentropy: 0.3786 - val_recall: 0.4263 - val_precision: 0.6903\n",
      "Epoch 92/100\n",
      "154/154 [==============================] - 0s 2ms/step - loss: 0.3330 - binary_accuracy: 0.8683 - binary_crossentropy: 0.3330 - recall: 0.5078 - precision: 0.7483 - val_loss: 0.3784 - val_binary_accuracy: 0.8419 - val_binary_crossentropy: 0.3784 - val_recall: 0.4286 - val_precision: 0.6889\n",
      "Epoch 93/100\n",
      "154/154 [==============================] - 0s 2ms/step - loss: 0.3456 - binary_accuracy: 0.8602 - binary_crossentropy: 0.3456 - recall: 0.4643 - precision: 0.7212 - val_loss: 0.3775 - val_binary_accuracy: 0.8433 - val_binary_crossentropy: 0.3775 - val_recall: 0.4309 - val_precision: 0.6952\n",
      "Epoch 94/100\n",
      "154/154 [==============================] - 0s 2ms/step - loss: 0.3394 - binary_accuracy: 0.8672 - binary_crossentropy: 0.3394 - recall: 0.5057 - precision: 0.7682 - val_loss: 0.3777 - val_binary_accuracy: 0.8443 - val_binary_crossentropy: 0.3777 - val_recall: 0.4378 - val_precision: 0.6960\n",
      "Epoch 95/100\n",
      "154/154 [==============================] - 0s 3ms/step - loss: 0.3361 - binary_accuracy: 0.8681 - binary_crossentropy: 0.3361 - recall: 0.4998 - precision: 0.7657 - val_loss: 0.3771 - val_binary_accuracy: 0.8438 - val_binary_crossentropy: 0.3771 - val_recall: 0.4378 - val_precision: 0.6934\n",
      "Epoch 96/100\n",
      "154/154 [==============================] - 0s 2ms/step - loss: 0.3411 - binary_accuracy: 0.8575 - binary_crossentropy: 0.3411 - recall: 0.4718 - precision: 0.7255 - val_loss: 0.3767 - val_binary_accuracy: 0.8443 - val_binary_crossentropy: 0.3767 - val_recall: 0.4217 - val_precision: 0.7066\n",
      "Epoch 97/100\n",
      "154/154 [==============================] - 0s 2ms/step - loss: 0.3294 - binary_accuracy: 0.8660 - binary_crossentropy: 0.3294 - recall: 0.4542 - precision: 0.7308 - val_loss: 0.3767 - val_binary_accuracy: 0.8448 - val_binary_crossentropy: 0.3767 - val_recall: 0.4447 - val_precision: 0.6942\n",
      "Epoch 98/100\n",
      "154/154 [==============================] - 0s 3ms/step - loss: 0.3313 - binary_accuracy: 0.8707 - binary_crossentropy: 0.3313 - recall: 0.5076 - precision: 0.7543 - val_loss: 0.3762 - val_binary_accuracy: 0.8448 - val_binary_crossentropy: 0.3762 - val_recall: 0.4447 - val_precision: 0.6942\n",
      "Epoch 99/100\n",
      "154/154 [==============================] - 0s 2ms/step - loss: 0.3325 - binary_accuracy: 0.8701 - binary_crossentropy: 0.3325 - recall: 0.5147 - precision: 0.7730 - val_loss: 0.3757 - val_binary_accuracy: 0.8433 - val_binary_crossentropy: 0.3757 - val_recall: 0.4378 - val_precision: 0.6909\n",
      "Epoch 100/100\n",
      "154/154 [==============================] - 0s 3ms/step - loss: 0.3298 - binary_accuracy: 0.8740 - binary_crossentropy: 0.3298 - recall: 0.4999 - precision: 0.7857 - val_loss: 0.3762 - val_binary_accuracy: 0.8448 - val_binary_crossentropy: 0.3762 - val_recall: 0.4608 - val_precision: 0.6849\n"
     ]
    }
   ],
   "source": [
    "modHistory = model.fit(X0_train1, y0_train.values, epochs=100, verbose=1, validation_data=(X0_valid1, y0_valid.values)) #, batch_size = 1000, callbacks=[tensorboard_cb]"
   ]
  },
  {
   "cell_type": "code",
   "execution_count": 35,
   "metadata": {},
   "outputs": [
    {
     "name": "stdout",
     "output_type": "stream",
     "text": [
      "94/94 [==============================] - 0s 1ms/step - loss: 0.3712 - binary_accuracy: 0.8507 - binary_crossentropy: 0.3712 - recall: 0.4491 - precision: 0.7221\n"
     ]
    }
   ],
   "source": [
    "results = model.evaluate(X1_test, y_test.values)"
   ]
  },
  {
   "cell_type": "code",
   "execution_count": 36,
   "metadata": {},
   "outputs": [
    {
     "name": "stdout",
     "output_type": "stream",
     "text": [
      "['loss', 'binary_accuracy', 'binary_crossentropy', 'recall', 'precision']\n",
      "[0.3712248206138611, 0.8506666421890259, 0.3712248206138611, 0.4491114616394043, 0.7220779061317444]\n"
     ]
    }
   ],
   "source": [
    "print(model.metrics_names)\n",
    "print(results)    "
   ]
  },
  {
   "cell_type": "code",
   "execution_count": 37,
   "metadata": {},
   "outputs": [
    {
     "data": {
      "text/html": [
       "<div>\n",
       "<style scoped>\n",
       "    .dataframe tbody tr th:only-of-type {\n",
       "        vertical-align: middle;\n",
       "    }\n",
       "\n",
       "    .dataframe tbody tr th {\n",
       "        vertical-align: top;\n",
       "    }\n",
       "\n",
       "    .dataframe thead th {\n",
       "        text-align: right;\n",
       "    }\n",
       "</style>\n",
       "<table border=\"1\" class=\"dataframe\">\n",
       "  <thead>\n",
       "    <tr style=\"text-align: right;\">\n",
       "      <th></th>\n",
       "      <th>loss</th>\n",
       "      <th>binary_accuracy</th>\n",
       "      <th>binary_crossentropy</th>\n",
       "      <th>recall</th>\n",
       "      <th>precision</th>\n",
       "    </tr>\n",
       "  </thead>\n",
       "  <tbody>\n",
       "    <tr>\n",
       "      <th>0</th>\n",
       "      <td>0.371225</td>\n",
       "      <td>0.850667</td>\n",
       "      <td>0.371225</td>\n",
       "      <td>0.449111</td>\n",
       "      <td>0.722078</td>\n",
       "    </tr>\n",
       "  </tbody>\n",
       "</table>\n",
       "</div>"
      ],
      "text/plain": [
       "       loss  binary_accuracy  binary_crossentropy    recall  precision\n",
       "0  0.371225         0.850667             0.371225  0.449111   0.722078"
      ]
     },
     "execution_count": 37,
     "metadata": {},
     "output_type": "execute_result"
    }
   ],
   "source": [
    "res_DF0 = pd.DataFrame(columns=model.metrics_names)\n",
    "res_DF0.loc[0] = np.array(results)\n",
    "res_DF0"
   ]
  },
  {
   "cell_type": "code",
   "execution_count": 39,
   "metadata": {},
   "outputs": [
    {
     "data": {
      "image/png": "[encoded data removed]",
      "text/plain": [
       "<Figure size 432x288 with 1 Axes>"
      ]
     },
     "metadata": {},
     "output_type": "display_data"
    }
   ],
   "source": [
    "plt.plot(modHistory.history['binary_accuracy'])\n",
    "plt.plot(modHistory.history['val_binary_accuracy'])\n",
    "plt.title('Base Model Accuracy')\n",
    "plt.ylabel('Accuracy')\n",
    "plt.xlabel('Epoch')\n",
    "plt.legend(['Train', 'Validate'], loc='upper left')\n",
    "plt.show()"
   ]
  },
  {
   "cell_type": "code",
   "execution_count": 40,
   "metadata": {
    "scrolled": true
   },
   "outputs": [
    {
     "data": {
      "image/png": "[encoded data removed]",
      "text/plain": [
       "<Figure size 432x288 with 1 Axes>"
      ]
     },
     "metadata": {},
     "output_type": "display_data"
    }
   ],
   "source": [
    "plt.plot(modHistory.history['recall'])\n",
    "plt.plot(modHistory.history['val_recall'])\n",
    "plt.title('Base Model Recall')\n",
    "plt.ylabel('Recall')\n",
    "plt.xlabel('Epoch')\n",
    "plt.legend(['Train', 'Validate'], loc='upper left')\n",
    "plt.show()"
   ]
  },
  {
   "cell_type": "code",
   "execution_count": 41,
   "metadata": {},
   "outputs": [
    {
     "data": {
      "image/png": "[encoded data removed]",
      "text/plain": [
       "<Figure size 432x288 with 1 Axes>"
      ]
     },
     "metadata": {},
     "output_type": "display_data"
    }
   ],
   "source": [
    "plt.plot(modHistory.history['binary_crossentropy'])\n",
    "plt.plot(modHistory.history['val_binary_crossentropy'])\n",
    "plt.title('Base Model Loss')\n",
    "plt.ylabel('Loss')\n",
    "plt.xlabel('Epoch')\n",
    "plt.legend(['Train', 'Validate'], loc='upper left')\n",
    "plt.show()"
   ]
  },
  {
   "cell_type": "markdown",
   "metadata": {},
   "source": [
    "#### Randomized Search Cross Validation\n",
    "1. Attempt to improve convergence of model in terms of:\n",
    "    - Epoc count\n",
    "    - Accuracy\n",
    "    - Recall\n",
    "    - Loss (binary_crossentropy)\n",
    "2. Tune hyperparameters:\n",
    "    - Hidden Layers (n_hidden_layer)\n",
    "    - 1st hidden layer neuron count as a multiple of input layer (neuronMult)\n",
    "    - Activation Function (activ1)\n",
    "    - Learning Rate (l_rate)\n",
    "    - How many neurons in subsequent hidden layers as a fraction of previous layer (neuFrac)"
   ]
  },
  {
   "cell_type": "code",
   "execution_count": 42,
   "metadata": {},
   "outputs": [
    {
     "data": {
      "text/plain": [
       "((7000, 12), (7000,))"
      ]
     },
     "execution_count": 42,
     "metadata": {},
     "output_type": "execute_result"
    }
   ],
   "source": [
    "trape = X1_train.shape[1]\n",
    "X1_train.shape, y_train.shape"
   ]
  },
  {
   "cell_type": "code",
   "execution_count": 43,
   "metadata": {},
   "outputs": [],
   "source": [
    "def build_model(n_hidden_layer=2, neuronMult=1, optim='SGD', activ1='tanh', #activ2on='sigmoid',\n",
    "                l_rate=0.01, rand1=0.5, rand2=0.0, neuFrac=0.5):\n",
    "    # create model\n",
    "    model = tf.keras.Sequential()\n",
    "    model.add(tf.keras.Input(shape=(trape,)))\n",
    "    \n",
    "    init0 = False\n",
    "    for layer in range(1, n_hidden_layer+1):\n",
    "        if init0 == False:\n",
    "            model.add(tf.keras.layers.Dense(int(neuronMult*trape), activation=activ1))\n",
    "            init0 = True\n",
    "        else:\n",
    "            model.add(tf.keras.layers.Dense(int(neuronMult*trape*(np.power(neuFrac, layer-1))), activation=activ1))#activ2on))\n",
    "\n",
    "    model.add(tf.keras.layers.Dense(1, activation='sigmoid'))\n",
    "\n",
    "    # Optimizer for model\n",
    "    optimiz = tf.keras.optimizers.Optimizer\n",
    "    if optim == 'SGD':\n",
    "        optimiz = tf.keras.optimizers.SGD(learning_rate=l_rate, momentum=rand2, nesterov=False, name='SGD') \n",
    "    if optim == 'RMSprop':\n",
    "        optimiz = tf.keras.optimizers.RMSprop(learning_rate=l_rate, rho=0.9, momentum=rand2, centered=False, name='RMSprop')#, epsilon=1e-07\n",
    "\n",
    "    # Compile model\n",
    "    model.compile(optimizer=optimiz, loss='binary_crossentropy', \n",
    "                  metrics=[tf.keras.metrics.BinaryAccuracy(threshold=0.5), \n",
    "                       tf.keras.metrics.BinaryCrossentropy(),\n",
    "                       tf.keras.metrics.Recall(thresholds=0.5), \n",
    "                       tf.keras.metrics.Precision(thresholds=0.5)])\n",
    "    return model"
   ]
  },
  {
   "cell_type": "code",
   "execution_count": 44,
   "metadata": {},
   "outputs": [
    {
     "data": {
      "text/plain": [
       "<tensorflow.python.keras.wrappers.scikit_learn.KerasClassifier at 0x16d22484190>"
      ]
     },
     "execution_count": 44,
     "metadata": {},
     "output_type": "execute_result"
    }
   ],
   "source": [
    "from sklearn.base import clone\n",
    "keras_class = tf.keras.wrappers.scikit_learn.KerasClassifier(build_fn=build_model, epochs=100, batch_size=2000)\n",
    "clone(keras_class)"
   ]
  },
  {
   "cell_type": "code",
   "execution_count": 45,
   "metadata": {},
   "outputs": [
    {
     "data": {
      "text/plain": [
       "dict_keys(['epochs', 'batch_size', 'build_fn'])"
      ]
     },
     "execution_count": 45,
     "metadata": {},
     "output_type": "execute_result"
    }
   ],
   "source": [
    "keras_class.get_params().keys()"
   ]
  },
  {
   "cell_type": "code",
   "execution_count": 46,
   "metadata": {},
   "outputs": [],
   "source": [
    "# Build a pipeline with PowerTransformer and keras classifier\n",
    "# ensuring specific scaling for each cross validation iteration\n",
    "from sklearn.pipeline import Pipeline\n",
    "from sklearn.preprocessing import PowerTransformer\n",
    "annPipeL = Pipeline([('powTransY', PowerTransformer(method='yeo-johnson', standardize=True)), (\"kerClass\", keras_class)])"
   ]
  },
  {
   "cell_type": "code",
   "execution_count": 47,
   "metadata": {},
   "outputs": [],
   "source": [
    "# Preserving the percentage of samples for each class\n",
    "from sklearn.model_selection import StratifiedKFold\n",
    "kf3 = StratifiedKFold(n_splits=3, shuffle=True, random_state=3)"
   ]
  },
  {
   "cell_type": "code",
   "execution_count": 48,
   "metadata": {},
   "outputs": [
    {
     "name": "stdout",
     "output_type": "stream",
     "text": [
      "Epoch 1/100\n",
      "3/3 [==============================] - 2s 3ms/step - loss: 0.5991 - binary_accuracy: 0.7954 - binary_crossentropy: 0.5991 - recall_1: 0.0000e+00 - precision_1: 0.0000e+00\n",
      "Epoch 2/100\n",
      "3/3 [==============================] - 0s 5ms/step - loss: 0.5957 - binary_accuracy: 0.7975 - binary_crossentropy: 0.5957 - recall_1: 0.0000e+00 - precision_1: 0.0000e+00\n",
      "Epoch 3/100\n",
      "3/3 [==============================] - 0s 4ms/step - loss: 0.5939 - binary_accuracy: 0.7960 - binary_crossentropy: 0.5939 - recall_1: 0.0000e+00 - precision_1: 0.0000e+00\n",
      "Epoch 4/100\n",
      "3/3 [==============================] - 0s 4ms/step - loss: 0.5925 - binary_accuracy: 0.7935 - binary_crossentropy: 0.5925 - recall_1: 0.0000e+00 - precision_1: 0.0000e+00\n",
      "Epoch 5/100\n",
      "3/3 [==============================] - 0s 4ms/step - loss: 0.5894 - binary_accuracy: 0.7953 - binary_crossentropy: 0.5894 - recall_1: 0.0000e+00 - precision_1: 0.0000e+00\n",
      "Epoch 6/100\n",
      "3/3 [==============================] - 0s 5ms/step - loss: 0.5879 - binary_accuracy: 0.7935 - binary_crossentropy: 0.5879 - recall_1: 0.0000e+00 - precision_1: 0.0000e+00\n",
      "Epoch 7/100\n",
      "3/3 [==============================] - 0s 5ms/step - loss: 0.5830 - binary_accuracy: 0.7995 - binary_crossentropy: 0.5830 - recall_1: 0.0000e+00 - precision_1: 0.0000e+00\n",
      "Epoch 8/100\n",
      "3/3 [==============================] - 0s 3ms/step - loss: 0.5837 - binary_accuracy: 0.7934 - binary_crossentropy: 0.5837 - recall_1: 0.0000e+00 - precision_1: 0.0000e+00\n",
      "Epoch 9/100\n",
      "3/3 [==============================] - 0s 4ms/step - loss: 0.5795 - binary_accuracy: 0.7979 - binary_crossentropy: 0.5795 - recall_1: 0.0000e+00 - precision_1: 0.0000e+00\n",
      "Epoch 10/100\n",
      "3/3 [==============================] - 0s 4ms/step - loss: 0.5782 - binary_accuracy: 0.7963 - binary_crossentropy: 0.5782 - recall_1: 0.0000e+00 - precision_1: 0.0000e+00\n",
      "Epoch 11/100\n",
      "3/3 [==============================] - 0s 4ms/step - loss: 0.5768 - binary_accuracy: 0.7952 - binary_crossentropy: 0.5768 - recall_1: 0.0000e+00 - precision_1: 0.0000e+00\n",
      "Epoch 12/100\n",
      "3/3 [==============================] - 0s 5ms/step - loss: 0.5757 - binary_accuracy: 0.7939 - binary_crossentropy: 0.5757 - recall_1: 0.0000e+00 - precision_1: 0.0000e+00\n",
      "Epoch 13/100\n",
      "3/3 [==============================] - 0s 5ms/step - loss: 0.5722 - binary_accuracy: 0.7970 - binary_crossentropy: 0.5722 - recall_1: 0.0000e+00 - precision_1: 0.0000e+00\n",
      "Epoch 14/100\n",
      "3/3 [==============================] - 0s 4ms/step - loss: 0.5687 - binary_accuracy: 0.8003 - binary_crossentropy: 0.5687 - recall_1: 0.0000e+00 - precision_1: 0.0000e+00\n",
      "Epoch 15/100\n",
      "3/3 [==============================] - 0s 4ms/step - loss: 0.5675 - binary_accuracy: 0.7992 - binary_crossentropy: 0.5675 - recall_1: 0.0000e+00 - precision_1: 0.0000e+00\n",
      "Epoch 16/100\n",
      "3/3 [==============================] - 0s 4ms/step - loss: 0.5665 - binary_accuracy: 0.7980 - binary_crossentropy: 0.5665 - recall_1: 0.0000e+00 - precision_1: 0.0000e+00\n",
      "Epoch 17/100\n",
      "3/3 [==============================] - 0s 4ms/step - loss: 0.5656 - binary_accuracy: 0.7966 - binary_crossentropy: 0.5656 - recall_1: 0.0000e+00 - precision_1: 0.0000e+00\n",
      "Epoch 18/100\n",
      "3/3 [==============================] - 0s 4ms/step - loss: 0.5628 - binary_accuracy: 0.7989 - binary_crossentropy: 0.5628 - recall_1: 0.0000e+00 - precision_1: 0.0000e+00\n",
      "Epoch 19/100\n",
      "3/3 [==============================] - 0s 4ms/step - loss: 0.5640 - binary_accuracy: 0.7940 - binary_crossentropy: 0.5640 - recall_1: 0.0000e+00 - precision_1: 0.0000e+00\n",
      "Epoch 20/100\n",
      "3/3 [==============================] - 0s 4ms/step - loss: 0.5613 - binary_accuracy: 0.7962 - binary_crossentropy: 0.5613 - recall_1: 0.0000e+00 - precision_1: 0.0000e+00\n",
      "Epoch 21/100\n",
      "3/3 [==============================] - 0s 5ms/step - loss: 0.5582 - binary_accuracy: 0.7989 - binary_crossentropy: 0.5582 - recall_1: 0.0000e+00 - precision_1: 0.0000e+00\n",
      "Epoch 22/100\n",
      "3/3 [==============================] - 0s 4ms/step - loss: 0.5571 - binary_accuracy: 0.7984 - binary_crossentropy: 0.5571 - recall_1: 0.0000e+00 - precision_1: 0.0000e+00\n",
      "Epoch 23/100\n",
      "3/3 [==============================] - 0s 4ms/step - loss: 0.5561 - binary_accuracy: 0.7978 - binary_crossentropy: 0.5561 - recall_1: 0.0000e+00 - precision_1: 0.0000e+00\n",
      "Epoch 24/100\n",
      "3/3 [==============================] - 0s 5ms/step - loss: 0.5545 - binary_accuracy: 0.7983 - binary_crossentropy: 0.5545 - recall_1: 0.0000e+00 - precision_1: 0.0000e+00\n",
      "Epoch 25/100\n",
      "3/3 [==============================] - 0s 4ms/step - loss: 0.5548 - binary_accuracy: 0.7957 - binary_crossentropy: 0.5548 - recall_1: 0.0000e+00 - precision_1: 0.0000e+00\n",
      "Epoch 26/100\n",
      "3/3 [==============================] - 0s 4ms/step - loss: 0.5526 - binary_accuracy: 0.7971 - binary_crossentropy: 0.5526 - recall_1: 0.0000e+00 - precision_1: 0.0000e+00\n",
      "Epoch 27/100\n",
      "3/3 [==============================] - 0s 5ms/step - loss: 0.5489 - binary_accuracy: 0.8009 - binary_crossentropy: 0.5489 - recall_1: 0.0000e+00 - precision_1: 0.0000e+00\n",
      "Epoch 28/100\n",
      "3/3 [==============================] - 0s 4ms/step - loss: 0.5518 - binary_accuracy: 0.7946 - binary_crossentropy: 0.5518 - recall_1: 0.0000e+00 - precision_1: 0.0000e+00\n",
      "Epoch 29/100\n",
      "3/3 [==============================] - 0s 4ms/step - loss: 0.5478 - binary_accuracy: 0.7989 - binary_crossentropy: 0.5478 - recall_1: 0.0000e+00 - precision_1: 0.0000e+00\n",
      "Epoch 30/100\n",
      "3/3 [==============================] - 0s 4ms/step - loss: 0.5469 - binary_accuracy: 0.7985 - binary_crossentropy: 0.5469 - recall_1: 0.0000e+00 - precision_1: 0.0000e+00\n",
      "Epoch 31/100\n",
      "3/3 [==============================] - 0s 6ms/step - loss: 0.5473 - binary_accuracy: 0.7963 - binary_crossentropy: 0.5473 - recall_1: 0.0000e+00 - precision_1: 0.0000e+00\n",
      "Epoch 32/100\n",
      "3/3 [==============================] - 0s 4ms/step - loss: 0.5436 - binary_accuracy: 0.8002 - binary_crossentropy: 0.5436 - recall_1: 0.0000e+00 - precision_1: 0.0000e+00\n",
      "Epoch 33/100\n",
      "3/3 [==============================] - 0s 6ms/step - loss: 0.5423 - binary_accuracy: 0.8004 - binary_crossentropy: 0.5423 - recall_1: 0.0000e+00 - precision_1: 0.0000e+00\n",
      "Epoch 34/100\n",
      "3/3 [==============================] - 0s 3ms/step - loss: 0.5424 - binary_accuracy: 0.7989 - binary_crossentropy: 0.5424 - recall_1: 0.0000e+00 - precision_1: 0.0000e+00\n",
      "Epoch 35/100\n",
      "3/3 [==============================] - 0s 4ms/step - loss: 0.5428 - binary_accuracy: 0.7969 - binary_crossentropy: 0.5428 - recall_1: 0.0000e+00 - precision_1: 0.0000e+00\n",
      "Epoch 36/100\n",
      "3/3 [==============================] - 0s 4ms/step - loss: 0.5425 - binary_accuracy: 0.7960 - binary_crossentropy: 0.5425 - recall_1: 0.0000e+00 - precision_1: 0.0000e+00\n",
      "Epoch 37/100\n",
      "3/3 [==============================] - ETA: 0s - loss: 0.5425 - binary_accuracy: 0.7950 - binary_crossentropy: 0.5425 - recall_1: 0.0000e+00 - precision_1: 0.0000e+ - 0s 5ms/step - loss: 0.5416 - binary_accuracy: 0.7959 - binary_crossentropy: 0.5416 - recall_1: 0.0000e+00 - precision_1: 0.0000e+00\n",
      "Epoch 38/100\n",
      "3/3 [==============================] - 0s 4ms/step - loss: 0.5383 - binary_accuracy: 0.7991 - binary_crossentropy: 0.5383 - recall_1: 0.0000e+00 - precision_1: 0.0000e+00\n",
      "Epoch 39/100\n",
      "3/3 [==============================] - 0s 5ms/step - loss: 0.5380 - binary_accuracy: 0.7984 - binary_crossentropy: 0.5380 - recall_1: 0.0000e+00 - precision_1: 0.0000e+00\n",
      "Epoch 40/100\n",
      "3/3 [==============================] - 0s 4ms/step - loss: 0.5376 - binary_accuracy: 0.7978 - binary_crossentropy: 0.5376 - recall_1: 0.0000e+00 - precision_1: 0.0000e+00\n",
      "Epoch 41/100\n",
      "3/3 [==============================] - 0s 6ms/step - loss: 0.5367 - binary_accuracy: 0.7978 - binary_crossentropy: 0.5367 - recall_1: 0.0000e+00 - precision_1: 0.0000e+00\n",
      "Epoch 42/100\n",
      "3/3 [==============================] - 0s 4ms/step - loss: 0.5342 - binary_accuracy: 0.8000 - binary_crossentropy: 0.5342 - recall_1: 0.0000e+00 - precision_1: 0.0000e+00\n",
      "Epoch 43/100\n",
      "3/3 [==============================] - 0s 5ms/step - loss: 0.5351 - binary_accuracy: 0.7979 - binary_crossentropy: 0.5351 - recall_1: 0.0000e+00 - precision_1: 0.0000e+00\n",
      "Epoch 44/100\n"
     ]
    },
    {
     "name": "stdout",
     "output_type": "stream",
     "text": [
      "3/3 [==============================] - 0s 4ms/step - loss: 0.5359 - binary_accuracy: 0.7957 - binary_crossentropy: 0.5359 - recall_1: 0.0000e+00 - precision_1: 0.0000e+00\n",
      "Epoch 45/100\n",
      "3/3 [==============================] - 0s 4ms/step - loss: 0.5310 - binary_accuracy: 0.8010 - binary_crossentropy: 0.5310 - recall_1: 0.0000e+00 - precision_1: 0.0000e+00\n",
      "Epoch 46/100\n",
      "3/3 [==============================] - 0s 5ms/step - loss: 0.5339 - binary_accuracy: 0.7964 - binary_crossentropy: 0.5339 - recall_1: 0.0000e+00 - precision_1: 0.0000e+00\n",
      "Epoch 47/100\n",
      "3/3 [==============================] - 0s 4ms/step - loss: 0.5339 - binary_accuracy: 0.7954 - binary_crossentropy: 0.5339 - recall_1: 0.0000e+00 - precision_1: 0.0000e+00\n",
      "Epoch 48/100\n",
      "3/3 [==============================] - 0s 4ms/step - loss: 0.5300 - binary_accuracy: 0.7994 - binary_crossentropy: 0.5300 - recall_1: 0.0000e+00 - precision_1: 0.0000e+00\n",
      "Epoch 49/100\n",
      "3/3 [==============================] - 0s 5ms/step - loss: 0.5308 - binary_accuracy: 0.7976 - binary_crossentropy: 0.5308 - recall_1: 0.0000e+00 - precision_1: 0.0000e+00\n",
      "Epoch 50/100\n",
      "3/3 [==============================] - 0s 4ms/step - loss: 0.5257 - binary_accuracy: 0.8030 - binary_crossentropy: 0.5257 - recall_1: 0.0000e+00 - precision_1: 0.0000e+00\n",
      "Epoch 51/100\n",
      "3/3 [==============================] - 0s 4ms/step - loss: 0.5302 - binary_accuracy: 0.7968 - binary_crossentropy: 0.5302 - recall_1: 0.0000e+00 - precision_1: 0.0000e+00\n",
      "Epoch 52/100\n",
      "3/3 [==============================] - 0s 5ms/step - loss: 0.5280 - binary_accuracy: 0.7987 - binary_crossentropy: 0.5280 - recall_1: 0.0000e+00 - precision_1: 0.0000e+00\n",
      "Epoch 53/100\n",
      "3/3 [==============================] - 0s 4ms/step - loss: 0.5295 - binary_accuracy: 0.7962 - binary_crossentropy: 0.5295 - recall_1: 0.0000e+00 - precision_1: 0.0000e+00\n",
      "Epoch 54/100\n",
      "3/3 [==============================] - 0s 4ms/step - loss: 0.5271 - binary_accuracy: 0.7984 - binary_crossentropy: 0.5271 - recall_1: 0.0000e+00 - precision_1: 0.0000e+00\n",
      "Epoch 55/100\n",
      "3/3 [==============================] - 0s 6ms/step - loss: 0.5253 - binary_accuracy: 0.7998 - binary_crossentropy: 0.5253 - recall_1: 0.0000e+00 - precision_1: 0.0000e+00\n",
      "Epoch 56/100\n",
      "3/3 [==============================] - ETA: 0s - loss: 0.5311 - binary_accuracy: 0.7925 - binary_crossentropy: 0.5311 - recall_1: 0.0000e+00 - precision_1: 0.0000e+ - 0s 4ms/step - loss: 0.5278 - binary_accuracy: 0.7962 - binary_crossentropy: 0.5278 - recall_1: 0.0000e+00 - precision_1: 0.0000e+00\n",
      "Epoch 57/100\n",
      "3/3 [==============================] - 0s 5ms/step - loss: 0.5274 - binary_accuracy: 0.7960 - binary_crossentropy: 0.5274 - recall_1: 0.0000e+00 - precision_1: 0.0000e+00\n",
      "Epoch 58/100\n",
      "3/3 [==============================] - 0s 4ms/step - loss: 0.5234 - binary_accuracy: 0.8000 - binary_crossentropy: 0.5234 - recall_1: 0.0000e+00 - precision_1: 0.0000e+00\n",
      "Epoch 59/100\n",
      "3/3 [==============================] - 0s 4ms/step - loss: 0.5257 - binary_accuracy: 0.7968 - binary_crossentropy: 0.5257 - recall_1: 0.0000e+00 - precision_1: 0.0000e+00\n",
      "Epoch 60/100\n",
      "3/3 [==============================] - 0s 3ms/step - loss: 0.5254 - binary_accuracy: 0.7965 - binary_crossentropy: 0.5254 - recall_1: 0.0000e+00 - precision_1: 0.0000e+00\n",
      "Epoch 61/100\n",
      "3/3 [==============================] - 0s 3ms/step - loss: 0.5250 - binary_accuracy: 0.7964 - binary_crossentropy: 0.5250 - recall_1: 0.0000e+00 - precision_1: 0.0000e+00\n",
      "Epoch 62/100\n",
      "3/3 [==============================] - 0s 4ms/step - loss: 0.5245 - binary_accuracy: 0.7964 - binary_crossentropy: 0.5245 - recall_1: 0.0000e+00 - precision_1: 0.0000e+00\n",
      "Epoch 63/100\n",
      "3/3 [==============================] - 0s 4ms/step - loss: 0.5257 - binary_accuracy: 0.7945 - binary_crossentropy: 0.5257 - recall_1: 0.0000e+00 - precision_1: 0.0000e+00\n",
      "Epoch 64/100\n",
      "3/3 [==============================] - 0s 4ms/step - loss: 0.5189 - binary_accuracy: 0.8015 - binary_crossentropy: 0.5189 - recall_1: 0.0000e+00 - precision_1: 0.0000e+00\n",
      "Epoch 65/100\n",
      "3/3 [==============================] - 0s 4ms/step - loss: 0.5225 - binary_accuracy: 0.7970 - binary_crossentropy: 0.5225 - recall_1: 0.0000e+00 - precision_1: 0.0000e+00\n",
      "Epoch 66/100\n",
      "3/3 [==============================] - 0s 4ms/step - loss: 0.5217 - binary_accuracy: 0.7974 - binary_crossentropy: 0.5217 - recall_1: 0.0000e+00 - precision_1: 0.0000e+00\n",
      "Epoch 67/100\n",
      "3/3 [==============================] - 0s 4ms/step - loss: 0.5234 - binary_accuracy: 0.7952 - binary_crossentropy: 0.5234 - recall_1: 0.0000e+00 - precision_1: 0.0000e+00\n",
      "Epoch 68/100\n",
      "3/3 [==============================] - 0s 4ms/step - loss: 0.5190 - binary_accuracy: 0.7995 - binary_crossentropy: 0.5190 - recall_1: 0.0000e+00 - precision_1: 0.0000e+00\n",
      "Epoch 69/100\n",
      "3/3 [==============================] - 0s 4ms/step - loss: 0.5223 - binary_accuracy: 0.7955 - binary_crossentropy: 0.5223 - recall_1: 0.0000e+00 - precision_1: 0.0000e+00\n",
      "Epoch 70/100\n",
      "3/3 [==============================] - 0s 4ms/step - loss: 0.5235 - binary_accuracy: 0.7939 - binary_crossentropy: 0.5235 - recall_1: 0.0000e+00 - precision_1: 0.0000e+00\n",
      "Epoch 71/100\n",
      "3/3 [==============================] - 0s 5ms/step - loss: 0.5210 - binary_accuracy: 0.7960 - binary_crossentropy: 0.5210 - recall_1: 0.0000e+00 - precision_1: 0.0000e+00\n",
      "Epoch 72/100\n",
      "3/3 [==============================] - 0s 4ms/step - loss: 0.5163 - binary_accuracy: 0.8006 - binary_crossentropy: 0.5163 - recall_1: 0.0000e+00 - precision_1: 0.0000e+00\n",
      "Epoch 73/100\n",
      "3/3 [==============================] - 0s 4ms/step - loss: 0.5203 - binary_accuracy: 0.7960 - binary_crossentropy: 0.5203 - recall_1: 0.0000e+00 - precision_1: 0.0000e+00\n",
      "Epoch 74/100\n",
      "3/3 [==============================] - 0s 5ms/step - loss: 0.5159 - binary_accuracy: 0.8002 - binary_crossentropy: 0.5159 - recall_1: 0.0000e+00 - precision_1: 0.0000e+00\n",
      "Epoch 75/100\n",
      "3/3 [==============================] - 0s 3ms/step - loss: 0.5162 - binary_accuracy: 0.7995 - binary_crossentropy: 0.5162 - recall_1: 0.0000e+00 - precision_1: 0.0000e+00\n",
      "Epoch 76/100\n",
      "3/3 [==============================] - 0s 4ms/step - loss: 0.5154 - binary_accuracy: 0.8000 - binary_crossentropy: 0.5154 - recall_1: 0.0000e+00 - precision_1: 0.0000e+00\n",
      "Epoch 77/100\n",
      "3/3 [==============================] - 0s 4ms/step - loss: 0.5174 - binary_accuracy: 0.7977 - binary_crossentropy: 0.5174 - recall_1: 0.0000e+00 - precision_1: 0.0000e+00\n",
      "Epoch 78/100\n",
      "3/3 [==============================] - 0s 6ms/step - loss: 0.5173 - binary_accuracy: 0.7975 - binary_crossentropy: 0.5173 - recall_1: 0.0000e+00 - precision_1: 0.0000e+00\n",
      "Epoch 79/100\n",
      "3/3 [==============================] - 0s 5ms/step - loss: 0.5180 - binary_accuracy: 0.7964 - binary_crossentropy: 0.5180 - recall_1: 0.0000e+00 - precision_1: 0.0000e+00\n",
      "Epoch 80/100\n",
      "3/3 [==============================] - 0s 5ms/step - loss: 0.5140 - binary_accuracy: 0.8002 - binary_crossentropy: 0.5140 - recall_1: 0.0000e+00 - precision_1: 0.0000e+00\n",
      "Epoch 81/100\n",
      "3/3 [==============================] - 0s 4ms/step - loss: 0.5193 - binary_accuracy: 0.7945 - binary_crossentropy: 0.5193 - recall_1: 0.0000e+00 - precision_1: 0.0000e+00\n",
      "Epoch 82/100\n",
      "3/3 [==============================] - 0s 5ms/step - loss: 0.5182 - binary_accuracy: 0.7953 - binary_crossentropy: 0.5182 - recall_1: 0.0000e+00 - precision_1: 0.0000e+00\n",
      "Epoch 83/100\n",
      "3/3 [==============================] - 0s 5ms/step - loss: 0.5155 - binary_accuracy: 0.7978 - binary_crossentropy: 0.5155 - recall_1: 0.0000e+00 - precision_1: 0.0000e+00\n",
      "Epoch 84/100\n",
      "3/3 [==============================] - 0s 4ms/step - loss: 0.5168 - binary_accuracy: 0.7962 - binary_crossentropy: 0.5168 - recall_1: 0.0000e+00 - precision_1: 0.0000e+00\n",
      "Epoch 85/100\n",
      "3/3 [==============================] - 0s 5ms/step - loss: 0.5145 - binary_accuracy: 0.7982 - binary_crossentropy: 0.5145 - recall_1: 0.0000e+00 - precision_1: 0.0000e+00\n",
      "Epoch 86/100\n",
      "3/3 [==============================] - 0s 5ms/step - loss: 0.5139 - binary_accuracy: 0.7985 - binary_crossentropy: 0.5139 - recall_1: 0.0000e+00 - precision_1: 0.0000e+00\n",
      "Epoch 87/100\n"
     ]
    },
    {
     "name": "stdout",
     "output_type": "stream",
     "text": [
      "3/3 [==============================] - 0s 4ms/step - loss: 0.5148 - binary_accuracy: 0.7974 - binary_crossentropy: 0.5148 - recall_1: 0.0000e+00 - precision_1: 0.0000e+00\n",
      "Epoch 88/100\n",
      "3/3 [==============================] - 0s 4ms/step - loss: 0.5134 - binary_accuracy: 0.7985 - binary_crossentropy: 0.5134 - recall_1: 0.0000e+00 - precision_1: 0.0000e+00\n",
      "Epoch 89/100\n",
      "3/3 [==============================] - 0s 6ms/step - loss: 0.5191 - binary_accuracy: 0.7927 - binary_crossentropy: 0.5191 - recall_1: 0.0000e+00 - precision_1: 0.0000e+00\n",
      "Epoch 90/100\n",
      "3/3 [==============================] - 0s 5ms/step - loss: 0.5115 - binary_accuracy: 0.7998 - binary_crossentropy: 0.5115 - recall_1: 0.0000e+00 - precision_1: 0.0000e+00\n",
      "Epoch 91/100\n",
      "3/3 [==============================] - 0s 6ms/step - loss: 0.5119 - binary_accuracy: 0.7992 - binary_crossentropy: 0.5119 - recall_1: 0.0000e+00 - precision_1: 0.0000e+00\n",
      "Epoch 92/100\n",
      "3/3 [==============================] - 0s 6ms/step - loss: 0.5139 - binary_accuracy: 0.7971 - binary_crossentropy: 0.5139 - recall_1: 0.0000e+00 - precision_1: 0.0000e+00\n",
      "Epoch 93/100\n",
      "3/3 [==============================] - 0s 5ms/step - loss: 0.5144 - binary_accuracy: 0.7964 - binary_crossentropy: 0.5144 - recall_1: 0.0000e+00 - precision_1: 0.0000e+00\n",
      "Epoch 94/100\n",
      "3/3 [==============================] - 0s 6ms/step - loss: 0.5115 - binary_accuracy: 0.7989 - binary_crossentropy: 0.5115 - recall_1: 0.0000e+00 - precision_1: 0.0000e+00\n",
      "Epoch 95/100\n",
      "3/3 [==============================] - 0s 4ms/step - loss: 0.5131 - binary_accuracy: 0.7972 - binary_crossentropy: 0.5131 - recall_1: 0.0000e+00 - precision_1: 0.0000e+00\n",
      "Epoch 96/100\n",
      "3/3 [==============================] - 0s 5ms/step - loss: 0.5137 - binary_accuracy: 0.7964 - binary_crossentropy: 0.5137 - recall_1: 0.0000e+00 - precision_1: 0.0000e+00\n",
      "Epoch 97/100\n",
      "3/3 [==============================] - 0s 4ms/step - loss: 0.5139 - binary_accuracy: 0.7961 - binary_crossentropy: 0.5139 - recall_1: 0.0000e+00 - precision_1: 0.0000e+00\n",
      "Epoch 98/100\n",
      "3/3 [==============================] - 0s 3ms/step - loss: 0.5103 - binary_accuracy: 0.7993 - binary_crossentropy: 0.5103 - recall_1: 0.0000e+00 - precision_1: 0.0000e+00\n",
      "Epoch 99/100\n",
      "3/3 [==============================] - 0s 4ms/step - loss: 0.5127 - binary_accuracy: 0.7969 - binary_crossentropy: 0.5127 - recall_1: 0.0000e+00 - precision_1: 0.0000e+00\n",
      "Epoch 100/100\n",
      "3/3 [==============================] - 0s 4ms/step - loss: 0.5130 - binary_accuracy: 0.7964 - binary_crossentropy: 0.5130 - recall_1: 0.0000e+00 - precision_1: 0.0000e+00\n",
      "2/2 [==============================] - 1s 6ms/step - loss: 0.5118 - binary_accuracy: 0.7973 - binary_crossentropy: 0.5118 - recall_1: 0.0000e+00 - precision_1: 0.0000e+00\n"
     ]
    },
    {
     "ename": "ValueError",
     "evalue": "The model is not configured to compute accuracy. You should pass `metrics=[\"accuracy\"]` to the `model.compile()` method.",
     "output_type": "error",
     "traceback": [
      "\u001b[1;31m---------------------------------------------------------------------------\u001b[0m",
      "\u001b[1;31mValueError\u001b[0m                                Traceback (most recent call last)",
      "\u001b[1;32m<ipython-input-48-c063ab9ff9b0>\u001b[0m in \u001b[0;36m<module>\u001b[1;34m\u001b[0m\n\u001b[0;32m      8\u001b[0m                  }\n\u001b[0;32m      9\u001b[0m \u001b[0mrnd_search_cv\u001b[0m \u001b[1;33m=\u001b[0m \u001b[0mRandomizedSearchCV\u001b[0m\u001b[1;33m(\u001b[0m\u001b[0mannPipeL\u001b[0m\u001b[1;33m,\u001b[0m \u001b[0mparam_distribs\u001b[0m\u001b[1;33m,\u001b[0m \u001b[0mn_iter\u001b[0m\u001b[1;33m=\u001b[0m\u001b[1;36m48\u001b[0m\u001b[1;33m,\u001b[0m \u001b[0mcv\u001b[0m\u001b[1;33m=\u001b[0m\u001b[0mkf3\u001b[0m\u001b[1;33m)\u001b[0m\u001b[1;33m\u001b[0m\u001b[1;33m\u001b[0m\u001b[0m\n\u001b[1;32m---> 10\u001b[1;33m \u001b[0mrnd_search_cv\u001b[0m\u001b[1;33m.\u001b[0m\u001b[0mfit\u001b[0m\u001b[1;33m(\u001b[0m\u001b[0mX1_train\u001b[0m\u001b[1;33m,\u001b[0m \u001b[0my_train\u001b[0m\u001b[1;33m.\u001b[0m\u001b[0mvalues\u001b[0m\u001b[1;33m)\u001b[0m\u001b[1;33m\u001b[0m\u001b[1;33m\u001b[0m\u001b[0m\n\u001b[0m",
      "\u001b[1;32m~\\anaconda3\\lib\\site-packages\\sklearn\\utils\\validation.py\u001b[0m in \u001b[0;36minner_f\u001b[1;34m(*args, **kwargs)\u001b[0m\n\u001b[0;32m     71\u001b[0m                           FutureWarning)\n\u001b[0;32m     72\u001b[0m         \u001b[0mkwargs\u001b[0m\u001b[1;33m.\u001b[0m\u001b[0mupdate\u001b[0m\u001b[1;33m(\u001b[0m\u001b[1;33m{\u001b[0m\u001b[0mk\u001b[0m\u001b[1;33m:\u001b[0m \u001b[0marg\u001b[0m \u001b[1;32mfor\u001b[0m \u001b[0mk\u001b[0m\u001b[1;33m,\u001b[0m \u001b[0marg\u001b[0m \u001b[1;32min\u001b[0m \u001b[0mzip\u001b[0m\u001b[1;33m(\u001b[0m\u001b[0msig\u001b[0m\u001b[1;33m.\u001b[0m\u001b[0mparameters\u001b[0m\u001b[1;33m,\u001b[0m \u001b[0margs\u001b[0m\u001b[1;33m)\u001b[0m\u001b[1;33m}\u001b[0m\u001b[1;33m)\u001b[0m\u001b[1;33m\u001b[0m\u001b[1;33m\u001b[0m\u001b[0m\n\u001b[1;32m---> 73\u001b[1;33m         \u001b[1;32mreturn\u001b[0m \u001b[0mf\u001b[0m\u001b[1;33m(\u001b[0m\u001b[1;33m**\u001b[0m\u001b[0mkwargs\u001b[0m\u001b[1;33m)\u001b[0m\u001b[1;33m\u001b[0m\u001b[1;33m\u001b[0m\u001b[0m\n\u001b[0m\u001b[0;32m     74\u001b[0m     \u001b[1;32mreturn\u001b[0m \u001b[0minner_f\u001b[0m\u001b[1;33m\u001b[0m\u001b[1;33m\u001b[0m\u001b[0m\n\u001b[0;32m     75\u001b[0m \u001b[1;33m\u001b[0m\u001b[0m\n",
      "\u001b[1;32m~\\anaconda3\\lib\\site-packages\\sklearn\\model_selection\\_search.py\u001b[0m in \u001b[0;36mfit\u001b[1;34m(self, X, y, groups, **fit_params)\u001b[0m\n\u001b[0;32m    734\u001b[0m                 \u001b[1;32mreturn\u001b[0m \u001b[0mresults\u001b[0m\u001b[1;33m\u001b[0m\u001b[1;33m\u001b[0m\u001b[0m\n\u001b[0;32m    735\u001b[0m \u001b[1;33m\u001b[0m\u001b[0m\n\u001b[1;32m--> 736\u001b[1;33m             \u001b[0mself\u001b[0m\u001b[1;33m.\u001b[0m\u001b[0m_run_search\u001b[0m\u001b[1;33m(\u001b[0m\u001b[0mevaluate_candidates\u001b[0m\u001b[1;33m)\u001b[0m\u001b[1;33m\u001b[0m\u001b[1;33m\u001b[0m\u001b[0m\n\u001b[0m\u001b[0;32m    737\u001b[0m \u001b[1;33m\u001b[0m\u001b[0m\n\u001b[0;32m    738\u001b[0m         \u001b[1;31m# For multi-metric evaluation, store the best_index_, best_params_ and\u001b[0m\u001b[1;33m\u001b[0m\u001b[1;33m\u001b[0m\u001b[1;33m\u001b[0m\u001b[0m\n",
      "\u001b[1;32m~\\anaconda3\\lib\\site-packages\\sklearn\\model_selection\\_search.py\u001b[0m in \u001b[0;36m_run_search\u001b[1;34m(self, evaluate_candidates)\u001b[0m\n\u001b[0;32m   1527\u001b[0m     \u001b[1;32mdef\u001b[0m \u001b[0m_run_search\u001b[0m\u001b[1;33m(\u001b[0m\u001b[0mself\u001b[0m\u001b[1;33m,\u001b[0m \u001b[0mevaluate_candidates\u001b[0m\u001b[1;33m)\u001b[0m\u001b[1;33m:\u001b[0m\u001b[1;33m\u001b[0m\u001b[1;33m\u001b[0m\u001b[0m\n\u001b[0;32m   1528\u001b[0m         \u001b[1;34m\"\"\"Search n_iter candidates from param_distributions\"\"\"\u001b[0m\u001b[1;33m\u001b[0m\u001b[1;33m\u001b[0m\u001b[0m\n\u001b[1;32m-> 1529\u001b[1;33m         evaluate_candidates(ParameterSampler(\n\u001b[0m\u001b[0;32m   1530\u001b[0m             \u001b[0mself\u001b[0m\u001b[1;33m.\u001b[0m\u001b[0mparam_distributions\u001b[0m\u001b[1;33m,\u001b[0m \u001b[0mself\u001b[0m\u001b[1;33m.\u001b[0m\u001b[0mn_iter\u001b[0m\u001b[1;33m,\u001b[0m\u001b[1;33m\u001b[0m\u001b[1;33m\u001b[0m\u001b[0m\n\u001b[0;32m   1531\u001b[0m             random_state=self.random_state))\n",
      "\u001b[1;32m~\\anaconda3\\lib\\site-packages\\sklearn\\model_selection\\_search.py\u001b[0m in \u001b[0;36mevaluate_candidates\u001b[1;34m(candidate_params)\u001b[0m\n\u001b[0;32m    706\u001b[0m                               n_splits, n_candidates, n_candidates * n_splits))\n\u001b[0;32m    707\u001b[0m \u001b[1;33m\u001b[0m\u001b[0m\n\u001b[1;32m--> 708\u001b[1;33m                 out = parallel(delayed(_fit_and_score)(clone(base_estimator),\n\u001b[0m\u001b[0;32m    709\u001b[0m                                                        \u001b[0mX\u001b[0m\u001b[1;33m,\u001b[0m \u001b[0my\u001b[0m\u001b[1;33m,\u001b[0m\u001b[1;33m\u001b[0m\u001b[1;33m\u001b[0m\u001b[0m\n\u001b[0;32m    710\u001b[0m                                                        \u001b[0mtrain\u001b[0m\u001b[1;33m=\u001b[0m\u001b[0mtrain\u001b[0m\u001b[1;33m,\u001b[0m \u001b[0mtest\u001b[0m\u001b[1;33m=\u001b[0m\u001b[0mtest\u001b[0m\u001b[1;33m,\u001b[0m\u001b[1;33m\u001b[0m\u001b[1;33m\u001b[0m\u001b[0m\n",
      "\u001b[1;32m~\\anaconda3\\lib\\site-packages\\joblib\\parallel.py\u001b[0m in \u001b[0;36m__call__\u001b[1;34m(self, iterable)\u001b[0m\n\u001b[0;32m   1027\u001b[0m             \u001b[1;31m# remaining jobs.\u001b[0m\u001b[1;33m\u001b[0m\u001b[1;33m\u001b[0m\u001b[1;33m\u001b[0m\u001b[0m\n\u001b[0;32m   1028\u001b[0m             \u001b[0mself\u001b[0m\u001b[1;33m.\u001b[0m\u001b[0m_iterating\u001b[0m \u001b[1;33m=\u001b[0m \u001b[1;32mFalse\u001b[0m\u001b[1;33m\u001b[0m\u001b[1;33m\u001b[0m\u001b[0m\n\u001b[1;32m-> 1029\u001b[1;33m             \u001b[1;32mif\u001b[0m \u001b[0mself\u001b[0m\u001b[1;33m.\u001b[0m\u001b[0mdispatch_one_batch\u001b[0m\u001b[1;33m(\u001b[0m\u001b[0miterator\u001b[0m\u001b[1;33m)\u001b[0m\u001b[1;33m:\u001b[0m\u001b[1;33m\u001b[0m\u001b[1;33m\u001b[0m\u001b[0m\n\u001b[0m\u001b[0;32m   1030\u001b[0m                 \u001b[0mself\u001b[0m\u001b[1;33m.\u001b[0m\u001b[0m_iterating\u001b[0m \u001b[1;33m=\u001b[0m \u001b[0mself\u001b[0m\u001b[1;33m.\u001b[0m\u001b[0m_original_iterator\u001b[0m \u001b[1;32mis\u001b[0m \u001b[1;32mnot\u001b[0m \u001b[1;32mNone\u001b[0m\u001b[1;33m\u001b[0m\u001b[1;33m\u001b[0m\u001b[0m\n\u001b[0;32m   1031\u001b[0m \u001b[1;33m\u001b[0m\u001b[0m\n",
      "\u001b[1;32m~\\anaconda3\\lib\\site-packages\\joblib\\parallel.py\u001b[0m in \u001b[0;36mdispatch_one_batch\u001b[1;34m(self, iterator)\u001b[0m\n\u001b[0;32m    845\u001b[0m                 \u001b[1;32mreturn\u001b[0m \u001b[1;32mFalse\u001b[0m\u001b[1;33m\u001b[0m\u001b[1;33m\u001b[0m\u001b[0m\n\u001b[0;32m    846\u001b[0m             \u001b[1;32melse\u001b[0m\u001b[1;33m:\u001b[0m\u001b[1;33m\u001b[0m\u001b[1;33m\u001b[0m\u001b[0m\n\u001b[1;32m--> 847\u001b[1;33m                 \u001b[0mself\u001b[0m\u001b[1;33m.\u001b[0m\u001b[0m_dispatch\u001b[0m\u001b[1;33m(\u001b[0m\u001b[0mtasks\u001b[0m\u001b[1;33m)\u001b[0m\u001b[1;33m\u001b[0m\u001b[1;33m\u001b[0m\u001b[0m\n\u001b[0m\u001b[0;32m    848\u001b[0m                 \u001b[1;32mreturn\u001b[0m \u001b[1;32mTrue\u001b[0m\u001b[1;33m\u001b[0m\u001b[1;33m\u001b[0m\u001b[0m\n\u001b[0;32m    849\u001b[0m \u001b[1;33m\u001b[0m\u001b[0m\n",
      "\u001b[1;32m~\\anaconda3\\lib\\site-packages\\joblib\\parallel.py\u001b[0m in \u001b[0;36m_dispatch\u001b[1;34m(self, batch)\u001b[0m\n\u001b[0;32m    763\u001b[0m         \u001b[1;32mwith\u001b[0m \u001b[0mself\u001b[0m\u001b[1;33m.\u001b[0m\u001b[0m_lock\u001b[0m\u001b[1;33m:\u001b[0m\u001b[1;33m\u001b[0m\u001b[1;33m\u001b[0m\u001b[0m\n\u001b[0;32m    764\u001b[0m             \u001b[0mjob_idx\u001b[0m \u001b[1;33m=\u001b[0m \u001b[0mlen\u001b[0m\u001b[1;33m(\u001b[0m\u001b[0mself\u001b[0m\u001b[1;33m.\u001b[0m\u001b[0m_jobs\u001b[0m\u001b[1;33m)\u001b[0m\u001b[1;33m\u001b[0m\u001b[1;33m\u001b[0m\u001b[0m\n\u001b[1;32m--> 765\u001b[1;33m             \u001b[0mjob\u001b[0m \u001b[1;33m=\u001b[0m \u001b[0mself\u001b[0m\u001b[1;33m.\u001b[0m\u001b[0m_backend\u001b[0m\u001b[1;33m.\u001b[0m\u001b[0mapply_async\u001b[0m\u001b[1;33m(\u001b[0m\u001b[0mbatch\u001b[0m\u001b[1;33m,\u001b[0m \u001b[0mcallback\u001b[0m\u001b[1;33m=\u001b[0m\u001b[0mcb\u001b[0m\u001b[1;33m)\u001b[0m\u001b[1;33m\u001b[0m\u001b[1;33m\u001b[0m\u001b[0m\n\u001b[0m\u001b[0;32m    766\u001b[0m             \u001b[1;31m# A job can complete so quickly than its callback is\u001b[0m\u001b[1;33m\u001b[0m\u001b[1;33m\u001b[0m\u001b[1;33m\u001b[0m\u001b[0m\n\u001b[0;32m    767\u001b[0m             \u001b[1;31m# called before we get here, causing self._jobs to\u001b[0m\u001b[1;33m\u001b[0m\u001b[1;33m\u001b[0m\u001b[1;33m\u001b[0m\u001b[0m\n",
      "\u001b[1;32m~\\anaconda3\\lib\\site-packages\\joblib\\_parallel_backends.py\u001b[0m in \u001b[0;36mapply_async\u001b[1;34m(self, func, callback)\u001b[0m\n\u001b[0;32m    206\u001b[0m     \u001b[1;32mdef\u001b[0m \u001b[0mapply_async\u001b[0m\u001b[1;33m(\u001b[0m\u001b[0mself\u001b[0m\u001b[1;33m,\u001b[0m \u001b[0mfunc\u001b[0m\u001b[1;33m,\u001b[0m \u001b[0mcallback\u001b[0m\u001b[1;33m=\u001b[0m\u001b[1;32mNone\u001b[0m\u001b[1;33m)\u001b[0m\u001b[1;33m:\u001b[0m\u001b[1;33m\u001b[0m\u001b[1;33m\u001b[0m\u001b[0m\n\u001b[0;32m    207\u001b[0m         \u001b[1;34m\"\"\"Schedule a func to be run\"\"\"\u001b[0m\u001b[1;33m\u001b[0m\u001b[1;33m\u001b[0m\u001b[0m\n\u001b[1;32m--> 208\u001b[1;33m         \u001b[0mresult\u001b[0m \u001b[1;33m=\u001b[0m \u001b[0mImmediateResult\u001b[0m\u001b[1;33m(\u001b[0m\u001b[0mfunc\u001b[0m\u001b[1;33m)\u001b[0m\u001b[1;33m\u001b[0m\u001b[1;33m\u001b[0m\u001b[0m\n\u001b[0m\u001b[0;32m    209\u001b[0m         \u001b[1;32mif\u001b[0m \u001b[0mcallback\u001b[0m\u001b[1;33m:\u001b[0m\u001b[1;33m\u001b[0m\u001b[1;33m\u001b[0m\u001b[0m\n\u001b[0;32m    210\u001b[0m             \u001b[0mcallback\u001b[0m\u001b[1;33m(\u001b[0m\u001b[0mresult\u001b[0m\u001b[1;33m)\u001b[0m\u001b[1;33m\u001b[0m\u001b[1;33m\u001b[0m\u001b[0m\n",
      "\u001b[1;32m~\\anaconda3\\lib\\site-packages\\joblib\\_parallel_backends.py\u001b[0m in \u001b[0;36m__init__\u001b[1;34m(self, batch)\u001b[0m\n\u001b[0;32m    570\u001b[0m         \u001b[1;31m# Don't delay the application, to avoid keeping the input\u001b[0m\u001b[1;33m\u001b[0m\u001b[1;33m\u001b[0m\u001b[1;33m\u001b[0m\u001b[0m\n\u001b[0;32m    571\u001b[0m         \u001b[1;31m# arguments in memory\u001b[0m\u001b[1;33m\u001b[0m\u001b[1;33m\u001b[0m\u001b[1;33m\u001b[0m\u001b[0m\n\u001b[1;32m--> 572\u001b[1;33m         \u001b[0mself\u001b[0m\u001b[1;33m.\u001b[0m\u001b[0mresults\u001b[0m \u001b[1;33m=\u001b[0m \u001b[0mbatch\u001b[0m\u001b[1;33m(\u001b[0m\u001b[1;33m)\u001b[0m\u001b[1;33m\u001b[0m\u001b[1;33m\u001b[0m\u001b[0m\n\u001b[0m\u001b[0;32m    573\u001b[0m \u001b[1;33m\u001b[0m\u001b[0m\n\u001b[0;32m    574\u001b[0m     \u001b[1;32mdef\u001b[0m \u001b[0mget\u001b[0m\u001b[1;33m(\u001b[0m\u001b[0mself\u001b[0m\u001b[1;33m)\u001b[0m\u001b[1;33m:\u001b[0m\u001b[1;33m\u001b[0m\u001b[1;33m\u001b[0m\u001b[0m\n",
      "\u001b[1;32m~\\anaconda3\\lib\\site-packages\\joblib\\parallel.py\u001b[0m in \u001b[0;36m__call__\u001b[1;34m(self)\u001b[0m\n\u001b[0;32m    250\u001b[0m         \u001b[1;31m# change the default number of processes to -1\u001b[0m\u001b[1;33m\u001b[0m\u001b[1;33m\u001b[0m\u001b[1;33m\u001b[0m\u001b[0m\n\u001b[0;32m    251\u001b[0m         \u001b[1;32mwith\u001b[0m \u001b[0mparallel_backend\u001b[0m\u001b[1;33m(\u001b[0m\u001b[0mself\u001b[0m\u001b[1;33m.\u001b[0m\u001b[0m_backend\u001b[0m\u001b[1;33m,\u001b[0m \u001b[0mn_jobs\u001b[0m\u001b[1;33m=\u001b[0m\u001b[0mself\u001b[0m\u001b[1;33m.\u001b[0m\u001b[0m_n_jobs\u001b[0m\u001b[1;33m)\u001b[0m\u001b[1;33m:\u001b[0m\u001b[1;33m\u001b[0m\u001b[1;33m\u001b[0m\u001b[0m\n\u001b[1;32m--> 252\u001b[1;33m             return [func(*args, **kwargs)\n\u001b[0m\u001b[0;32m    253\u001b[0m                     for func, args, kwargs in self.items]\n\u001b[0;32m    254\u001b[0m \u001b[1;33m\u001b[0m\u001b[0m\n",
      "\u001b[1;32m~\\anaconda3\\lib\\site-packages\\joblib\\parallel.py\u001b[0m in \u001b[0;36m<listcomp>\u001b[1;34m(.0)\u001b[0m\n\u001b[0;32m    250\u001b[0m         \u001b[1;31m# change the default number of processes to -1\u001b[0m\u001b[1;33m\u001b[0m\u001b[1;33m\u001b[0m\u001b[1;33m\u001b[0m\u001b[0m\n\u001b[0;32m    251\u001b[0m         \u001b[1;32mwith\u001b[0m \u001b[0mparallel_backend\u001b[0m\u001b[1;33m(\u001b[0m\u001b[0mself\u001b[0m\u001b[1;33m.\u001b[0m\u001b[0m_backend\u001b[0m\u001b[1;33m,\u001b[0m \u001b[0mn_jobs\u001b[0m\u001b[1;33m=\u001b[0m\u001b[0mself\u001b[0m\u001b[1;33m.\u001b[0m\u001b[0m_n_jobs\u001b[0m\u001b[1;33m)\u001b[0m\u001b[1;33m:\u001b[0m\u001b[1;33m\u001b[0m\u001b[1;33m\u001b[0m\u001b[0m\n\u001b[1;32m--> 252\u001b[1;33m             return [func(*args, **kwargs)\n\u001b[0m\u001b[0;32m    253\u001b[0m                     for func, args, kwargs in self.items]\n\u001b[0;32m    254\u001b[0m \u001b[1;33m\u001b[0m\u001b[0m\n",
      "\u001b[1;32m~\\anaconda3\\lib\\site-packages\\sklearn\\model_selection\\_validation.py\u001b[0m in \u001b[0;36m_fit_and_score\u001b[1;34m(estimator, X, y, scorer, train, test, verbose, parameters, fit_params, return_train_score, return_parameters, return_n_test_samples, return_times, return_estimator, error_score)\u001b[0m\n\u001b[0;32m    558\u001b[0m     \u001b[1;32melse\u001b[0m\u001b[1;33m:\u001b[0m\u001b[1;33m\u001b[0m\u001b[1;33m\u001b[0m\u001b[0m\n\u001b[0;32m    559\u001b[0m         \u001b[0mfit_time\u001b[0m \u001b[1;33m=\u001b[0m \u001b[0mtime\u001b[0m\u001b[1;33m.\u001b[0m\u001b[0mtime\u001b[0m\u001b[1;33m(\u001b[0m\u001b[1;33m)\u001b[0m \u001b[1;33m-\u001b[0m \u001b[0mstart_time\u001b[0m\u001b[1;33m\u001b[0m\u001b[1;33m\u001b[0m\u001b[0m\n\u001b[1;32m--> 560\u001b[1;33m         \u001b[0mtest_scores\u001b[0m \u001b[1;33m=\u001b[0m \u001b[0m_score\u001b[0m\u001b[1;33m(\u001b[0m\u001b[0mestimator\u001b[0m\u001b[1;33m,\u001b[0m \u001b[0mX_test\u001b[0m\u001b[1;33m,\u001b[0m \u001b[0my_test\u001b[0m\u001b[1;33m,\u001b[0m \u001b[0mscorer\u001b[0m\u001b[1;33m)\u001b[0m\u001b[1;33m\u001b[0m\u001b[1;33m\u001b[0m\u001b[0m\n\u001b[0m\u001b[0;32m    561\u001b[0m         \u001b[0mscore_time\u001b[0m \u001b[1;33m=\u001b[0m \u001b[0mtime\u001b[0m\u001b[1;33m.\u001b[0m\u001b[0mtime\u001b[0m\u001b[1;33m(\u001b[0m\u001b[1;33m)\u001b[0m \u001b[1;33m-\u001b[0m \u001b[0mstart_time\u001b[0m \u001b[1;33m-\u001b[0m \u001b[0mfit_time\u001b[0m\u001b[1;33m\u001b[0m\u001b[1;33m\u001b[0m\u001b[0m\n\u001b[0;32m    562\u001b[0m         \u001b[1;32mif\u001b[0m \u001b[0mreturn_train_score\u001b[0m\u001b[1;33m:\u001b[0m\u001b[1;33m\u001b[0m\u001b[1;33m\u001b[0m\u001b[0m\n",
      "\u001b[1;32m~\\anaconda3\\lib\\site-packages\\sklearn\\model_selection\\_validation.py\u001b[0m in \u001b[0;36m_score\u001b[1;34m(estimator, X_test, y_test, scorer)\u001b[0m\n\u001b[0;32m    605\u001b[0m         \u001b[0mscores\u001b[0m \u001b[1;33m=\u001b[0m \u001b[0mscorer\u001b[0m\u001b[1;33m(\u001b[0m\u001b[0mestimator\u001b[0m\u001b[1;33m,\u001b[0m \u001b[0mX_test\u001b[0m\u001b[1;33m)\u001b[0m\u001b[1;33m\u001b[0m\u001b[1;33m\u001b[0m\u001b[0m\n\u001b[0;32m    606\u001b[0m     \u001b[1;32melse\u001b[0m\u001b[1;33m:\u001b[0m\u001b[1;33m\u001b[0m\u001b[1;33m\u001b[0m\u001b[0m\n\u001b[1;32m--> 607\u001b[1;33m         \u001b[0mscores\u001b[0m \u001b[1;33m=\u001b[0m \u001b[0mscorer\u001b[0m\u001b[1;33m(\u001b[0m\u001b[0mestimator\u001b[0m\u001b[1;33m,\u001b[0m \u001b[0mX_test\u001b[0m\u001b[1;33m,\u001b[0m \u001b[0my_test\u001b[0m\u001b[1;33m)\u001b[0m\u001b[1;33m\u001b[0m\u001b[1;33m\u001b[0m\u001b[0m\n\u001b[0m\u001b[0;32m    608\u001b[0m \u001b[1;33m\u001b[0m\u001b[0m\n\u001b[0;32m    609\u001b[0m     error_msg = (\"scoring must return a number, got %s (%s) \"\n",
      "\u001b[1;32m~\\anaconda3\\lib\\site-packages\\sklearn\\metrics\\_scorer.py\u001b[0m in \u001b[0;36m__call__\u001b[1;34m(self, estimator, *args, **kwargs)\u001b[0m\n\u001b[0;32m     88\u001b[0m                                       *args, **kwargs)\n\u001b[0;32m     89\u001b[0m             \u001b[1;32melse\u001b[0m\u001b[1;33m:\u001b[0m\u001b[1;33m\u001b[0m\u001b[1;33m\u001b[0m\u001b[0m\n\u001b[1;32m---> 90\u001b[1;33m                 \u001b[0mscore\u001b[0m \u001b[1;33m=\u001b[0m \u001b[0mscorer\u001b[0m\u001b[1;33m(\u001b[0m\u001b[0mestimator\u001b[0m\u001b[1;33m,\u001b[0m \u001b[1;33m*\u001b[0m\u001b[0margs\u001b[0m\u001b[1;33m,\u001b[0m \u001b[1;33m**\u001b[0m\u001b[0mkwargs\u001b[0m\u001b[1;33m)\u001b[0m\u001b[1;33m\u001b[0m\u001b[1;33m\u001b[0m\u001b[0m\n\u001b[0m\u001b[0;32m     91\u001b[0m             \u001b[0mscores\u001b[0m\u001b[1;33m[\u001b[0m\u001b[0mname\u001b[0m\u001b[1;33m]\u001b[0m \u001b[1;33m=\u001b[0m \u001b[0mscore\u001b[0m\u001b[1;33m\u001b[0m\u001b[1;33m\u001b[0m\u001b[0m\n\u001b[0;32m     92\u001b[0m         \u001b[1;32mreturn\u001b[0m \u001b[0mscores\u001b[0m\u001b[1;33m\u001b[0m\u001b[1;33m\u001b[0m\u001b[0m\n",
      "\u001b[1;32m~\\anaconda3\\lib\\site-packages\\sklearn\\metrics\\_scorer.py\u001b[0m in \u001b[0;36m_passthrough_scorer\u001b[1;34m(estimator, *args, **kwargs)\u001b[0m\n\u001b[0;32m    370\u001b[0m \u001b[1;32mdef\u001b[0m \u001b[0m_passthrough_scorer\u001b[0m\u001b[1;33m(\u001b[0m\u001b[0mestimator\u001b[0m\u001b[1;33m,\u001b[0m \u001b[1;33m*\u001b[0m\u001b[0margs\u001b[0m\u001b[1;33m,\u001b[0m \u001b[1;33m**\u001b[0m\u001b[0mkwargs\u001b[0m\u001b[1;33m)\u001b[0m\u001b[1;33m:\u001b[0m\u001b[1;33m\u001b[0m\u001b[1;33m\u001b[0m\u001b[0m\n\u001b[0;32m    371\u001b[0m     \u001b[1;34m\"\"\"Function that wraps estimator.score\"\"\"\u001b[0m\u001b[1;33m\u001b[0m\u001b[1;33m\u001b[0m\u001b[0m\n\u001b[1;32m--> 372\u001b[1;33m     \u001b[1;32mreturn\u001b[0m \u001b[0mestimator\u001b[0m\u001b[1;33m.\u001b[0m\u001b[0mscore\u001b[0m\u001b[1;33m(\u001b[0m\u001b[1;33m*\u001b[0m\u001b[0margs\u001b[0m\u001b[1;33m,\u001b[0m \u001b[1;33m**\u001b[0m\u001b[0mkwargs\u001b[0m\u001b[1;33m)\u001b[0m\u001b[1;33m\u001b[0m\u001b[1;33m\u001b[0m\u001b[0m\n\u001b[0m\u001b[0;32m    373\u001b[0m \u001b[1;33m\u001b[0m\u001b[0m\n\u001b[0;32m    374\u001b[0m \u001b[1;33m\u001b[0m\u001b[0m\n",
      "\u001b[1;32m~\\anaconda3\\lib\\site-packages\\sklearn\\utils\\metaestimators.py\u001b[0m in \u001b[0;36m<lambda>\u001b[1;34m(*args, **kwargs)\u001b[0m\n\u001b[0;32m    117\u001b[0m \u001b[1;33m\u001b[0m\u001b[0m\n\u001b[0;32m    118\u001b[0m         \u001b[1;31m# lambda, but not partial, allows help() to work with update_wrapper\u001b[0m\u001b[1;33m\u001b[0m\u001b[1;33m\u001b[0m\u001b[1;33m\u001b[0m\u001b[0m\n\u001b[1;32m--> 119\u001b[1;33m         \u001b[0mout\u001b[0m \u001b[1;33m=\u001b[0m \u001b[1;32mlambda\u001b[0m \u001b[1;33m*\u001b[0m\u001b[0margs\u001b[0m\u001b[1;33m,\u001b[0m \u001b[1;33m**\u001b[0m\u001b[0mkwargs\u001b[0m\u001b[1;33m:\u001b[0m \u001b[0mself\u001b[0m\u001b[1;33m.\u001b[0m\u001b[0mfn\u001b[0m\u001b[1;33m(\u001b[0m\u001b[0mobj\u001b[0m\u001b[1;33m,\u001b[0m \u001b[1;33m*\u001b[0m\u001b[0margs\u001b[0m\u001b[1;33m,\u001b[0m \u001b[1;33m**\u001b[0m\u001b[0mkwargs\u001b[0m\u001b[1;33m)\u001b[0m\u001b[1;33m\u001b[0m\u001b[1;33m\u001b[0m\u001b[0m\n\u001b[0m\u001b[0;32m    120\u001b[0m         \u001b[1;31m# update the docstring of the returned function\u001b[0m\u001b[1;33m\u001b[0m\u001b[1;33m\u001b[0m\u001b[1;33m\u001b[0m\u001b[0m\n\u001b[0;32m    121\u001b[0m         \u001b[0mupdate_wrapper\u001b[0m\u001b[1;33m(\u001b[0m\u001b[0mout\u001b[0m\u001b[1;33m,\u001b[0m \u001b[0mself\u001b[0m\u001b[1;33m.\u001b[0m\u001b[0mfn\u001b[0m\u001b[1;33m)\u001b[0m\u001b[1;33m\u001b[0m\u001b[1;33m\u001b[0m\u001b[0m\n",
      "\u001b[1;32m~\\anaconda3\\lib\\site-packages\\sklearn\\pipeline.py\u001b[0m in \u001b[0;36mscore\u001b[1;34m(self, X, y, sample_weight)\u001b[0m\n\u001b[0;32m    609\u001b[0m         \u001b[1;32mif\u001b[0m \u001b[0msample_weight\u001b[0m \u001b[1;32mis\u001b[0m \u001b[1;32mnot\u001b[0m \u001b[1;32mNone\u001b[0m\u001b[1;33m:\u001b[0m\u001b[1;33m\u001b[0m\u001b[1;33m\u001b[0m\u001b[0m\n\u001b[0;32m    610\u001b[0m             \u001b[0mscore_params\u001b[0m\u001b[1;33m[\u001b[0m\u001b[1;34m'sample_weight'\u001b[0m\u001b[1;33m]\u001b[0m \u001b[1;33m=\u001b[0m \u001b[0msample_weight\u001b[0m\u001b[1;33m\u001b[0m\u001b[1;33m\u001b[0m\u001b[0m\n\u001b[1;32m--> 611\u001b[1;33m         \u001b[1;32mreturn\u001b[0m \u001b[0mself\u001b[0m\u001b[1;33m.\u001b[0m\u001b[0msteps\u001b[0m\u001b[1;33m[\u001b[0m\u001b[1;33m-\u001b[0m\u001b[1;36m1\u001b[0m\u001b[1;33m]\u001b[0m\u001b[1;33m[\u001b[0m\u001b[1;33m-\u001b[0m\u001b[1;36m1\u001b[0m\u001b[1;33m]\u001b[0m\u001b[1;33m.\u001b[0m\u001b[0mscore\u001b[0m\u001b[1;33m(\u001b[0m\u001b[0mXt\u001b[0m\u001b[1;33m,\u001b[0m \u001b[0my\u001b[0m\u001b[1;33m,\u001b[0m \u001b[1;33m**\u001b[0m\u001b[0mscore_params\u001b[0m\u001b[1;33m)\u001b[0m\u001b[1;33m\u001b[0m\u001b[1;33m\u001b[0m\u001b[0m\n\u001b[0m\u001b[0;32m    612\u001b[0m \u001b[1;33m\u001b[0m\u001b[0m\n\u001b[0;32m    613\u001b[0m     \u001b[1;33m@\u001b[0m\u001b[0mproperty\u001b[0m\u001b[1;33m\u001b[0m\u001b[1;33m\u001b[0m\u001b[0m\n",
      "\u001b[1;32m~\\anaconda3\\lib\\site-packages\\tensorflow\\python\\keras\\wrappers\\scikit_learn.py\u001b[0m in \u001b[0;36mscore\u001b[1;34m(self, x, y, **kwargs)\u001b[0m\n\u001b[0;32m    306\u001b[0m       \u001b[1;32mif\u001b[0m \u001b[0mname\u001b[0m \u001b[1;32min\u001b[0m \u001b[1;33m[\u001b[0m\u001b[1;34m'accuracy'\u001b[0m\u001b[1;33m,\u001b[0m \u001b[1;34m'acc'\u001b[0m\u001b[1;33m]\u001b[0m\u001b[1;33m:\u001b[0m\u001b[1;33m\u001b[0m\u001b[1;33m\u001b[0m\u001b[0m\n\u001b[0;32m    307\u001b[0m         \u001b[1;32mreturn\u001b[0m \u001b[0moutput\u001b[0m\u001b[1;33m\u001b[0m\u001b[1;33m\u001b[0m\u001b[0m\n\u001b[1;32m--> 308\u001b[1;33m     raise ValueError('The model is not configured to compute accuracy. '\n\u001b[0m\u001b[0;32m    309\u001b[0m                      \u001b[1;34m'You should pass `metrics=[\"accuracy\"]` to '\u001b[0m\u001b[1;33m\u001b[0m\u001b[1;33m\u001b[0m\u001b[0m\n\u001b[0;32m    310\u001b[0m                      'the `model.compile()` method.')\n",
      "\u001b[1;31mValueError\u001b[0m: The model is not configured to compute accuracy. You should pass `metrics=[\"accuracy\"]` to the `model.compile()` method."
     ]
    }
   ],
   "source": [
    "from sklearn.model_selection import RandomizedSearchCV\n",
    "param_distribs = {'kerClass__n_hidden_layer': [2, 3, 4], \n",
    "                  'kerClass__neuronMult': [1.5],\n",
    "                  'kerClass__optim': ['SGD'],\n",
    "                  'kerClass__activ1': ['sigmoid', 'tanh'],\n",
    "                  'kerClass__l_rate': np.arange(0.002,0.012,0.002).tolist(),\n",
    "                  'kerClass__neuFrac': [0.5, 0.66666]\n",
    "                 }\n",
    "rnd_search_cv = RandomizedSearchCV(annPipeL, param_distribs, n_iter=48, cv=kf3)\n",
    "rnd_search_cv.fit(X1_train, y_train.values)"
   ]
  },
  {
   "cell_type": "code",
   "execution_count": null,
   "metadata": {},
   "outputs": [],
   "source": [
    "rnd_search_cv.best_params_"
   ]
  },
  {
   "cell_type": "markdown",
   "metadata": {},
   "source": [
    "## Prediction at 0.5 Threshold"
   ]
  },
  {
   "cell_type": "markdown",
   "metadata": {},
   "source": [
    "#### Model Tweaked by RandomizedSearchCV results comparison with base model\n",
    "1. Use RandomizedSearchCV Best Parameters for final model\n",
    "2. Cater for imbalanced Exited class distribution with weight adjustments weights = {0:1, 1:5}"
   ]
  },
  {
   "cell_type": "code",
   "execution_count": null,
   "metadata": {},
   "outputs": [],
   "source": [
    "weights = {0:1, 1:4}"
   ]
  },
  {
   "cell_type": "code",
   "execution_count": null,
   "metadata": {},
   "outputs": [],
   "source": [
    "optim='SGD'\n",
    "neuronMult=1.5\n",
    "neuFrac=0.5\n",
    "n_hidden_layer=2\n",
    "l_rate=0.008\n",
    "activ1='tanh'\n",
    "rand1=0.5\n",
    "rand2=0.0\n",
    "\n",
    "# Create model\n",
    "annClass = tf.keras.Sequential()\n",
    "annClass.add(tf.keras.Input(shape=(trape,)))\n",
    "\n",
    "init0 = False\n",
    "for layer in range(1, n_hidden_layer+1):\n",
    "    if init0 == False:\n",
    "        annClass.add(tf.keras.layers.Dense(int(neuronMult*trape), activation=activ1))\n",
    "        init0 = True\n",
    "    else:\n",
    "        annClass.add(tf.keras.layers.Dense(int(neuronMult*trape*(np.power(neuFrac, layer-1))), activation=activ1))\n",
    "\n",
    "annClass.add(tf.keras.layers.Dense(1, activation='sigmoid'))\n",
    "\n",
    "# Optimizer for model\n",
    "optimiz = tf.keras.optimizers.Optimizer\n",
    "if optim == 'SGD':\n",
    "    optimiz = tf.keras.optimizers.SGD(learning_rate=l_rate, momentum=rand2, name='SGD')# nesterov=False, \n",
    "if optim == 'RMSprop':\n",
    "    optimiz = tf.keras.optimizers.RMSprop(learning_rate=l_rate, rho=0.9, momentum=rand2, name='RMSprop')#, epsilon=1e-07, centered=False,\n",
    "\n",
    "# Compile model\n",
    "annClass.compile(optimizer=optimiz, loss='binary_crossentropy', metrics=['accuracy',\n",
    "                                                                        tf.keras.metrics.BinaryCrossentropy(),\n",
    "                                                                        tf.keras.metrics.Recall(thresholds=0.5),\n",
    "                                                                        tf.keras.metrics.Precision(thresholds=0.5)])"
   ]
  },
  {
   "cell_type": "code",
   "execution_count": null,
   "metadata": {
    "scrolled": true
   },
   "outputs": [],
   "source": [
    "# Print model summary\n",
    "annClass.summary()"
   ]
  },
  {
   "cell_type": "markdown",
   "metadata": {},
   "source": [
    "#### Model Tweaked by RandomizedSearchCV validation metrics \"annHist\" comparison with base model"
   ]
  },
  {
   "cell_type": "code",
   "execution_count": null,
   "metadata": {},
   "outputs": [],
   "source": [
    "annHist = annClass.fit(X0_train1, y0_train.values, epochs=100, validation_data=(X0_valid1, y0_valid.values), class_weight=weights, verbose=True) #, batch_size = 1000, callbacks=[tensorboard_cb]"
   ]
  },
  {
   "cell_type": "code",
   "execution_count": null,
   "metadata": {},
   "outputs": [],
   "source": [
    "# List all data in history\n",
    "print(annHist.history.keys())"
   ]
  },
  {
   "cell_type": "code",
   "execution_count": null,
   "metadata": {},
   "outputs": [],
   "source": [
    "plt.plot(annHist.history['binary_accuracy'])\n",
    "plt.plot(annHist.history['val_binary_accuracy'])\n",
    "plt.title('Model Tweaked by RandomizedSearchCV Accuracy')\n",
    "plt.ylabel('Accuracy')\n",
    "plt.xlabel('Epoch')\n",
    "plt.legend(['Train', 'Validation'], loc='upper left')\n",
    "plt.show()"
   ]
  },
  {
   "cell_type": "code",
   "execution_count": null,
   "metadata": {},
   "outputs": [],
   "source": [
    "plt.plot(annHist.history['recall_146'])\n",
    "plt.plot(annHist.history['val_recall_146'])\n",
    "plt.title('Model Tweaked by RandomizedSearchCV Recall')\n",
    "plt.ylabel('Recall')\n",
    "plt.xlabel('Epoch')\n",
    "plt.legend(['Train', 'Validation'], loc='upper left')\n",
    "plt.show()"
   ]
  },
  {
   "cell_type": "code",
   "execution_count": null,
   "metadata": {},
   "outputs": [],
   "source": [
    "plt.plot(annHist.history['binary_crossentropy'])\n",
    "plt.plot(annHist.history['val_binary_crossentropy'])\n",
    "plt.title('Model Tweaked by RandomizedSearchCV Loss')\n",
    "plt.ylabel('Loss')\n",
    "plt.xlabel('Epoch')\n",
    "plt.legend(['Train', 'Validation'], loc='upper left')\n",
    "plt.show()"
   ]
  },
  {
   "cell_type": "code",
   "execution_count": null,
   "metadata": {},
   "outputs": [],
   "source": [
    "res_DF = pd.DataFrame(columns=annClass.metrics_names)\n",
    "res_DF.loc[0] = np.array(results)\n",
    "res_DF"
   ]
  },
  {
   "cell_type": "markdown",
   "metadata": {},
   "source": [
    "## Model Performance Evaluation"
   ]
  },
  {
   "cell_type": "markdown",
   "metadata": {},
   "source": [
    "#### Predicting Test data"
   ]
  },
  {
   "cell_type": "code",
   "execution_count": null,
   "metadata": {
    "scrolled": true
   },
   "outputs": [],
   "source": [
    "results = annClass.evaluate(X1_test, y_test.values)"
   ]
  },
  {
   "cell_type": "code",
   "execution_count": null,
   "metadata": {},
   "outputs": [],
   "source": [
    "y_pred = (annClass.predict(X1_test) > 0.5).astype('int32')\n",
    "tf.math.confusion_matrix(y_test, y_pred, num_classes=2)"
   ]
  },
  {
   "cell_type": "markdown",
   "metadata": {},
   "source": [
    "#### Confusion Matrix"
   ]
  },
  {
   "cell_type": "code",
   "execution_count": null,
   "metadata": {},
   "outputs": [],
   "source": [
    "from sklearn.metrics import confusion_matrix"
   ]
  },
  {
   "cell_type": "code",
   "execution_count": null,
   "metadata": {},
   "outputs": [],
   "source": [
    "print('           ANN Confusion Matrix')\n",
    "cm = confusion_matrix(y_test, y_pred)\n",
    "sns.heatmap(cm, annot=True,  fmt='.0f', xticklabels = [0,1] , yticklabels = [0,1] )\n",
    "plt.ylabel('Observed')\n",
    "plt.xlabel('Predicted')\n",
    "plt.show()"
   ]
  },
  {
   "cell_type": "code",
   "execution_count": null,
   "metadata": {},
   "outputs": [],
   "source": [
    "TP = 458\n",
    "FP = 491\n",
    "FN = 161\n",
    "TN = 1890\n",
    "\n",
    "Recall = TP/(TP+FN)\n",
    "Precision = TP/(TP+FP)\n",
    "print('Recall [TP/(TP+FN)] for ANN Model = {0:.2f}'.format(Recall))\n",
    "print('Precision [TP/(TP+FP)] for ANN Model = {0:.2f}'.format(Precision))\n",
    "print('F1 Score [2.Precision.Recall / (Precision + Recall)] for ANN Model = {0:.2f}'.format((2*Recall*Precision)/(Recall+Precision)))\n",
    "print('Accuracy [(TP+TN)/(TP+TN+FP+FN)] for ANN Model = {0:.2f}'.format((TP+TN)/(TP+TN+FP+FN)))"
   ]
  },
  {
   "cell_type": "markdown",
   "metadata": {},
   "source": [
    "#### FInal Model Evaluation\n",
    "1. The Final Model Accuracy based on 3 Fold cross validation of hyperparameters has produced:\n",
    "    - Recall score of 0.74 on test data, which is good as Exited customers are identified pretty well. A better score can be achieved with greater amount of data, which results in better neural network model performance\n",
    "    - Accuracy of 0.78 on test data, which is good because the model classifed correctly 78% of customers that Exited and those who stayed\n",
    "    - 3 hidden layers, resulting in it learning some complex relationships in parameters\n",
    "    - 1st hidden layer with 1.5 times the number of neurons compared to input layer, thereby creating equivalent of polynomial features to learn better\n",
    "2. Base Model Accuracy on validation data appears better than Final Model on validation data, however:\n",
    "    - Balancing the Exited class distribution with weight adjustments weights {0:1, 1:4} led to the Final Model having a better Recall value on validation data\n",
    "    - Final Model is expedted to generalise well in production, due to cross validation exercise\n",
    "    - Final Model Accuracy converges faster at about 40 epochs, compared to 60 epochs of the Base Model, which means faster learning of the cross validated & weight balanced model"
   ]
  },
  {
   "cell_type": "code",
   "execution_count": null,
   "metadata": {},
   "outputs": [],
   "source": []
  }
 ],
 "metadata": {
  "kernelspec": {
   "display_name": "Python 3",
   "language": "python",
   "name": "python3"
  },
  "language_info": {
   "codemirror_mode": {
    "name": "ipython",
    "version": 3
   },
   "file_extension": ".py",
   "mimetype": "text/x-python",
   "name": "python",
   "nbconvert_exporter": "python",
   "pygments_lexer": "ipython3",
   "version": "3.8.3"
  }
 },
 "nbformat": 4,
 "nbformat_minor": 4
}
